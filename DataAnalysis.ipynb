{
  "cells": [
    {
      "cell_type": "markdown",
      "metadata": {},
      "source": [
        "This notebook runs the majority of the data analysis on the evaluation results. The following are included:\n",
        "\n",
        "1) Find the top models\n",
        "2) Calculate conditional probabilities of datasets both being present in top models' training data \n",
        "3) Find the relative ranks of the authors' top models\n",
        "4) Identify the number of bots and humans in each dataset\n",
        "5) Generate figure 4 - plots showing bot scores and thresholds of top models\n",
        "6) Find correlations between stds of model results and other features"
      ]
    },
    {
      "cell_type": "code",
      "execution_count": 1,
      "metadata": {
        "colab": {
          "base_uri": "https://localhost:8080/"
        },
        "id": "zyM1RWpkF5jB",
        "outputId": "b79cd8f1-6504-430e-bc7b-27b7af9e6e60"
      },
      "outputs": [],
      "source": [
        "import os\n",
        "import pandas as pd\n",
        "\n",
        "#this directory contains the csv with all the models' metrics, and all tables generated in this notebook will go here\n",
        "results_path = \"./results/5_final_results/\"\n",
        "models_path = \"./models/5_final_results/\""
      ]
    },
    {
      "cell_type": "markdown",
      "metadata": {},
      "source": [
        "Find top models"
      ]
    },
    {
      "cell_type": "code",
      "execution_count": 2,
      "metadata": {
        "id": "fug-QU1dHK-T"
      },
      "outputs": [],
      "source": [
        "#load results\n",
        "results = pd.read_csv(os.path.join(results_path, \"mean.csv\"))\n",
        "#make all the strings 7 digits long by adding zeros in front, and start with M\n",
        "results[\"name\"] = results.apply(lambda row: \"M\" + str(int(row[\"name\"])).zfill(7), axis=1)\n",
        "\n",
        "#obtain the relative orders of each column, keeping the column name\n",
        "ranks = results.drop(\"name\", axis=1).rank(ascending=False).add_suffix(\"_rank\")\n",
        "ranked_results = pd.concat([results, ranks], axis=1)\n",
        "\n",
        "#find the product of the ranks of each column\n",
        "metrics_to_eval = [\"botwiki-verified_rank\", \"midterm-18_rank\", \"gilani-17_rank\", \"cresci-rtbust_rank\", \"5-fold_cross-validation_rank\", \"spearman_r_rank\"]\n",
        "rank_product = ranked_results[metrics_to_eval].product(axis=1)\n",
        "\n",
        "#drop the ranks of the test metrics since they aren't useful in the tables\n",
        "ranked_results = ranked_results.drop(labels=ranked_results.columns[7:],axis=1)\n",
        "\n",
        "#get the rank of the products (used for a lookup later)\n",
        "ranked_results[\"rank\"] = rank_product.rank(ascending=True)\n",
        "\n"
      ]
    },
    {
      "cell_type": "code",
      "execution_count": 3,
      "metadata": {
        "colab": {
          "base_uri": "https://localhost:8080/",
          "height": 269
        },
        "id": "j2REFmL4bugl",
        "outputId": "b07addf6-0c51-48c4-844d-f20a77e1eca0"
      },
      "outputs": [
        {
          "data": {
            "text/html": [
              "<div>\n",
              "<style scoped>\n",
              "    .dataframe tbody tr th:only-of-type {\n",
              "        vertical-align: middle;\n",
              "    }\n",
              "\n",
              "    .dataframe tbody tr th {\n",
              "        vertical-align: top;\n",
              "    }\n",
              "\n",
              "    .dataframe thead th {\n",
              "        text-align: right;\n",
              "    }\n",
              "</style>\n",
              "<table border=\"1\" class=\"dataframe\">\n",
              "  <thead>\n",
              "    <tr style=\"text-align: right;\">\n",
              "      <th>name</th>\n",
              "      <th>M0101000</th>\n",
              "      <th>M0101010</th>\n",
              "      <th>M1010010</th>\n",
              "    </tr>\n",
              "  </thead>\n",
              "  <tbody>\n",
              "    <tr>\n",
              "      <th>botwiki-verified</th>\n",
              "      <td>0.99</td>\n",
              "      <td>0.99</td>\n",
              "      <td>0.98</td>\n",
              "    </tr>\n",
              "    <tr>\n",
              "      <th>midterm-18</th>\n",
              "      <td>0.98</td>\n",
              "      <td>0.98</td>\n",
              "      <td>0.96</td>\n",
              "    </tr>\n",
              "    <tr>\n",
              "      <th>gilani-17</th>\n",
              "      <td>0.65</td>\n",
              "      <td>0.68</td>\n",
              "      <td>0.76</td>\n",
              "    </tr>\n",
              "    <tr>\n",
              "      <th>cresci-rtbust</th>\n",
              "      <td>0.76</td>\n",
              "      <td>0.68</td>\n",
              "      <td>0.64</td>\n",
              "    </tr>\n",
              "    <tr>\n",
              "      <th>5-fold_cross-validation</th>\n",
              "      <td>0.99</td>\n",
              "      <td>0.99</td>\n",
              "      <td>0.99</td>\n",
              "    </tr>\n",
              "    <tr>\n",
              "      <th>spearman_r</th>\n",
              "      <td>0.67</td>\n",
              "      <td>0.63</td>\n",
              "      <td>0.69</td>\n",
              "    </tr>\n",
              "    <tr>\n",
              "      <th>rank</th>\n",
              "      <td>0.99</td>\n",
              "      <td>2.00</td>\n",
              "      <td>3.00</td>\n",
              "    </tr>\n",
              "  </tbody>\n",
              "</table>\n",
              "</div>"
            ],
            "text/plain": [
              "name                     M0101000  M0101010  M1010010\n",
              "botwiki-verified             0.99      0.99      0.98\n",
              "midterm-18                   0.98      0.98      0.96\n",
              "gilani-17                    0.65      0.68      0.76\n",
              "cresci-rtbust                0.76      0.68      0.64\n",
              "5-fold_cross-validation      0.99      0.99      0.99\n",
              "spearman_r                   0.67      0.63      0.69\n",
              "rank                         0.99      2.00      3.00"
            ]
          },
          "execution_count": 3,
          "metadata": {},
          "output_type": "execute_result"
        }
      ],
      "source": [
        "#get the best n results\n",
        "n = 3\n",
        "\n",
        "#once rank is calculated, round all metrics for readability\n",
        "def round_except_1(val):\n",
        "    if round(val, 2) == 1:\n",
        "        return 0.99\n",
        "    return round(val,2)\n",
        "    \n",
        "top_results = ranked_results.sort_values(\"rank\").head(n).set_index(\"name\").transpose().applymap(round_except_1)\n",
        "\n",
        "top_results_file = os.path.join(results_path, \"top_results.csv\")\n",
        "top_results.to_csv(top_results_file)\n",
        "\n",
        "top_models = top_results.columns\n",
        "top_model = top_models[0]\n",
        "\n",
        "top_results"
      ]
    },
    {
      "cell_type": "markdown",
      "metadata": {},
      "source": [
        "Calculate conditional probabilities of datasets both being present in top models' training data "
      ]
    },
    {
      "cell_type": "code",
      "execution_count": 4,
      "metadata": {
        "colab": {
          "base_uri": "https://localhost:8080/",
          "height": 408
        },
        "id": "IvsaV2X_U_ZS",
        "outputId": "dd9f8525-9fc4-4f9c-a167-4b2a3885af89"
      },
      "outputs": [
        {
          "name": "stdout",
          "output_type": "stream",
          "text": [
            "Raw proportion that the dataset was used to train a top 25 model\n",
            "varol: 0.160\n",
            "cresci-17: 0.440\n",
            "pronbots: 0.560\n",
            "celebrity: 0.400\n",
            "vendor-purchased: 0.280\n",
            "botometer-feedback: 0.800\n",
            "political-bots: 0.440\n"
          ]
        }
      ],
      "source": [
        "n = 25\n",
        "top_result_names = ranked_results.sort_values(\"rank\").head(n)[\"name\"]\n",
        "top_result_names\n",
        "\n",
        "dataset_list = [\"varol\", \"cresci-17\", \"pronbots\", \"celebrity\", \"vendor-purchased\", \"botometer-feedback\", \"political-bots\"]\n",
        "dataset_count = [0] * len(dataset_list)\n",
        "\n",
        "#given a dataset appearing in a row, what is the prob it appeared alongside the given column\n",
        "conditional_prob = pd.DataFrame(0, index=dataset_list, columns=dataset_list)\n",
        "\n",
        "#get counts of dataset appearences in top xx ranked, and their co_occurences\n",
        "print(f\"Raw proportion that the dataset was used to train a top {n} model\")\n",
        "for name in top_result_names:\n",
        "  indices = [i for i, char in enumerate(name.strip(\"M\")) if char == \"1\"]\n",
        "  for i in indices:\n",
        "    dataset_count[i] += 1\n",
        "    for j in indices:\n",
        "      #indexing is [col][row]\n",
        "      conditional_prob[dataset_list[i]][dataset_list[j]] += 1\n",
        "\n",
        "for i, dataset in enumerate(dataset_list):\n",
        "  print(f\"{dataset}: {dataset_count[i] / n:.3f}\")    \n",
        "\n",
        "conditional_table = conditional_prob.divide(dataset_count, axis='index').round(decimals=2)"
      ]
    },
    {
      "cell_type": "code",
      "execution_count": 19,
      "metadata": {
        "colab": {
          "base_uri": "https://localhost:8080/",
          "height": 328
        },
        "id": "9M64VpLqmMnl",
        "outputId": "64178f78-9bb5-40b9-a485-64a22a618df7"
      },
      "outputs": [
        {
          "data": {
            "image/png": "[encoded data removed]",
            "text/plain": [
              "<Figure size 432x288 with 2 Axes>"
            ]
          },
          "metadata": {
            "needs_background": "light"
          },
          "output_type": "display_data"
        }
      ],
      "source": [
        "import seaborn as sns\n",
        "import matplotlib.pyplot as plt\n",
        "\n",
        "#plot the heatmap\n",
        "graph = sns.heatmap(data=conditional_table, annot=True, cmap=\"Spectral\")\n",
        "\n",
        "graph.set_title(f\"Probabilities of Datasets Occuring Together in Top {n} Models\")\n",
        "\n",
        "graph.set_xticklabels(graph.get_xticklabels(), rotation=45, horizontalalignment='right')\n",
        "\n",
        "graph.get_figure().savefig(os.path.join(results_path, \"conditional_prob.svg\"), bbox_inches=\"tight\")\n"
      ]
    },
    {
      "cell_type": "markdown",
      "metadata": {},
      "source": [
        "Find the relative ranks of the authors' top models"
      ]
    },
    {
      "cell_type": "code",
      "execution_count": 12,
      "metadata": {
        "colab": {
          "base_uri": "https://localhost:8080/",
          "height": 373
        },
        "id": "vfJP1_vHJ8Yz",
        "outputId": "10c9cd91-952f-4f7c-bb32-43c707393586"
      },
      "outputs": [
        {
          "name": "stderr",
          "output_type": "stream",
          "text": [
            "/tmp/ipykernel_476/1497716490.py:11: SettingWithCopyWarning: \n",
            "A value is trying to be set on a copy of a slice from a DataFrame.\n",
            "Try using .loc[row_indexer,col_indexer] = value instead\n",
            "\n",
            "See the caveats in the documentation: https://pandas.pydata.org/pandas-docs/stable/user_guide/indexing.html#returning-a-view-versus-a-copy\n",
            "  table4['name'] = table4.apply(lambda row: model_name_conversion[row['name']], axis=1)\n"
          ]
        },
        {
          "data": {
            "text/html": [
              "<div>\n",
              "<style scoped>\n",
              "    .dataframe tbody tr th:only-of-type {\n",
              "        vertical-align: middle;\n",
              "    }\n",
              "\n",
              "    .dataframe tbody tr th {\n",
              "        vertical-align: top;\n",
              "    }\n",
              "\n",
              "    .dataframe thead th {\n",
              "        text-align: right;\n",
              "    }\n",
              "</style>\n",
              "<table border=\"1\" class=\"dataframe\">\n",
              "  <thead>\n",
              "    <tr style=\"text-align: right;\">\n",
              "      <th>name</th>\n",
              "      <th>M196</th>\n",
              "      <th>M125</th>\n",
              "      <th>M191</th>\n",
              "      <th>M246_revised</th>\n",
              "    </tr>\n",
              "  </thead>\n",
              "  <tbody>\n",
              "    <tr>\n",
              "      <th>botwiki-verified</th>\n",
              "      <td>0.98</td>\n",
              "      <td>0.98</td>\n",
              "      <td>0.98</td>\n",
              "      <td>0.98</td>\n",
              "    </tr>\n",
              "    <tr>\n",
              "      <th>midterm-18</th>\n",
              "      <td>0.95</td>\n",
              "      <td>0.96</td>\n",
              "      <td>0.96</td>\n",
              "      <td>0.97</td>\n",
              "    </tr>\n",
              "    <tr>\n",
              "      <th>gilani-17</th>\n",
              "      <td>0.69</td>\n",
              "      <td>0.68</td>\n",
              "      <td>0.68</td>\n",
              "      <td>0.67</td>\n",
              "    </tr>\n",
              "    <tr>\n",
              "      <th>cresci-rtbust</th>\n",
              "      <td>0.62</td>\n",
              "      <td>0.65</td>\n",
              "      <td>0.65</td>\n",
              "      <td>0.64</td>\n",
              "    </tr>\n",
              "    <tr>\n",
              "      <th>5-fold_cross-validation</th>\n",
              "      <td>0.99</td>\n",
              "      <td>0.99</td>\n",
              "      <td>0.99</td>\n",
              "      <td>0.99</td>\n",
              "    </tr>\n",
              "    <tr>\n",
              "      <th>spearman_r</th>\n",
              "      <td>0.49</td>\n",
              "      <td>0.48</td>\n",
              "      <td>0.50</td>\n",
              "      <td>0.55</td>\n",
              "    </tr>\n",
              "    <tr>\n",
              "      <th>rank</th>\n",
              "      <td>90.00</td>\n",
              "      <td>91.00</td>\n",
              "      <td>84.00</td>\n",
              "      <td>61.00</td>\n",
              "    </tr>\n",
              "  </tbody>\n",
              "</table>\n",
              "</div>"
            ],
            "text/plain": [
              "name                      M196   M125   M191  M246_revised\n",
              "botwiki-verified          0.98   0.98   0.98          0.98\n",
              "midterm-18                0.95   0.96   0.96          0.97\n",
              "gilani-17                 0.69   0.68   0.68          0.67\n",
              "cresci-rtbust             0.62   0.65   0.65          0.64\n",
              "5-fold_cross-validation   0.99   0.99   0.99          0.99\n",
              "spearman_r                0.49   0.48   0.50          0.55\n",
              "rank                     90.00  91.00  84.00         61.00"
            ]
          },
          "execution_count": 12,
          "metadata": {},
          "output_type": "execute_result"
        }
      ],
      "source": [
        "#get the ranks of the models in original table 4 for comparison\n",
        "lookup_names = [\"M1101011\", \"M1101010\", \"M1101110\", \"M1111111\"]\n",
        "table4 = ranked_results.loc[ranked_results['name'].isin(lookup_names)]\n",
        "\n",
        "#get the names used in the paper\n",
        "model_name_conversion = {\"M1101011\": \"M196\",\n",
        "                         \"M1101010\": \"M125\",\n",
        "                         \"M1101110\": \"M191\",\n",
        "                         \"M1111111\": \"M246_revised\"}\n",
        "\n",
        "table4['name'] = table4.apply(lambda row: model_name_conversion[row['name']], axis=1)\n",
        "\n",
        "#reorder to have models in same order as paper\n",
        "table4 = table4.set_index(\"name\").transpose()[[\"M196\", \"M125\", \"M191\", \"M246_revised\"]].applymap(round_except_1)\n",
        "\n",
        "table4_file = os.path.join(results_path, \"table4.csv\")\n",
        "table4.to_csv(table4_file)\n",
        "table4"
      ]
    },
    {
      "cell_type": "markdown",
      "metadata": {},
      "source": [
        "Identify the number of bots and humans in each dataset"
      ]
    },
    {
      "cell_type": "code",
      "execution_count": 13,
      "metadata": {
        "id": "QORiaHa9pAbi"
      },
      "outputs": [],
      "source": [
        "# Seven training datasets\n",
        "dataset_path = \"data_csv/final\"\n",
        "\n",
        "varol = pd.read_csv(dataset_path + '/varol-17.csv')\n",
        "cresci_17 = pd.read_csv(dataset_path + '/cresci-17.csv')\n",
        "pronbots = pd.read_csv(dataset_path + '/pronbots-2019.csv')\n",
        "celebrity = pd.read_csv(dataset_path + '/celebrity-2019.csv')\n",
        "vendor = pd.read_csv(dataset_path + '/vendor-purchased-2019.csv')\n",
        "botometer = pd.read_csv(dataset_path + '/botometer-feedback-2019.csv')\n",
        "political = pd.read_csv(dataset_path + '/political-bots-2019.csv')\n",
        "\n",
        "# Testing datasets\n",
        "botwiki = pd.read_csv(dataset_path + '/botwiki-verified.csv')\n",
        "midterm = pd.read_csv(dataset_path + '/midterm-2018.csv')\n",
        "gilani = pd.read_csv(dataset_path + '/gilani-2017.csv')\n",
        "c_rtbust = pd.read_csv(dataset_path + '/cresci-rtbust-2019.csv')"
      ]
    },
    {
      "cell_type": "code",
      "execution_count": 15,
      "metadata": {
        "colab": {
          "base_uri": "https://localhost:8080/"
        },
        "id": "482d_Jgvr8mP",
        "outputId": "418e39c8-f373-4338-f3b6-e7c7cdfcd64c"
      },
      "outputs": [
        {
          "name": "stdout",
          "output_type": "stream",
          "text": [
            "dataset, bots, humans\n"
          ]
        },
        {
          "data": {
            "text/plain": [
              "[['varol-icwsm', 665, 1441],\n",
              " ['cresci-17', 6543, 3474],\n",
              " ['pronbots', 17882, 0],\n",
              " ['celebrity', 0, 5918],\n",
              " ['vendor-purchased', 1087, 0],\n",
              " ['botometer-feedback', 138, 380],\n",
              " ['political-bots', 62, 0],\n",
              " ['botwiki-verified', 698, 1987],\n",
              " ['midterm-18', 42446, 8092],\n",
              " ['gilani-17', 1090, 1394],\n",
              " ['cresci-rtbust', 353, 340]]"
            ]
          },
          "execution_count": 15,
          "metadata": {},
          "output_type": "execute_result"
        }
      ],
      "source": [
        "#get the breakdown of how many observations are in each class for all datasets\n",
        "\n",
        "datasets = [varol, cresci_17, pronbots, celebrity, vendor, botometer, political, botwiki, midterm, gilani, c_rtbust]\n",
        "dataset_names = [\"varol-icwsm\", \"cresci-17\", \"pronbots\", \"celebrity\", \"vendor-purchased\", \"botometer-feedback\", \"political-bots\", \"botwiki-verified\", \"midterm-18\", \"gilani-17\", \"cresci-rtbust\"]\n",
        "\n",
        "dataset_analysis = []\n",
        "for i, dataset in enumerate(datasets):\n",
        "  name = dataset_names[i]\n",
        "  bots = sum(dataset['is_bot'] == 1)\n",
        "  humans = sum(dataset['is_bot'] == 0)\n",
        "  dataset_analysis.append([name, bots, humans])\n",
        "\n",
        "print(\"dataset, bots, humans\")\n",
        "dataset_analysis"
      ]
    },
    {
      "cell_type": "markdown",
      "metadata": {},
      "source": [
        "Generate figure 4 - plots showing bot scores and thresholds of top models"
      ]
    },
    {
      "cell_type": "code",
      "execution_count": 16,
      "metadata": {
        "id": "e6Mv05nYGIFO"
      },
      "outputs": [],
      "source": [
        "import joblib\n",
        "import numpy as np\n",
        "import seaborn as sns\n",
        "import csv\n",
        "import matplotlib.pyplot as plt\n",
        "from sklearn.metrics import f1_score\n",
        "from sklearn.model_selection import cross_val_predict, StratifiedShuffleSplit, ShuffleSplit, StratifiedKFold\n",
        "from sklearn.ensemble import RandomForestClassifier"
      ]
    },
    {
      "cell_type": "code",
      "execution_count": 19,
      "metadata": {},
      "outputs": [],
      "source": [
        "all_test_data = pd.concat([botwiki, gilani, midterm, c_rtbust], ignore_index=True)\n",
        "all_test_data_X = all_test_data.drop(\"is_bot\", axis=1)\n",
        "all_test_data_Y = all_test_data[\"is_bot\"]\n",
        "\n",
        "def get_predicted_threshold(model_name):\n",
        "    \"\"\"\n",
        "    For the given model, calculate the predicted values from CV and all test data,\n",
        "    use these predictions to calculate the F1 scores across thresholds 0 to 1.\n",
        "\n",
        "    Returns a dataframe of predicted values, a column for CV and a column for test data.\n",
        "    Also returns a dataframe of f1 scores, indexed by the thresholds, a column for CV and a column for test data.\n",
        "    \"\"\"\n",
        "    model_stripped = model_name.strip(\"M\")\n",
        "    model_cv_data = pd.concat([datasets[i] for i, c in enumerate(model_stripped) if c == \"1\"], ignore_index=True)\n",
        "\n",
        "    model_cv_X = model_cv_data.drop(\"is_bot\", axis=1)\n",
        "    model_cv_Y = model_cv_data[\"is_bot\"]\n",
        "\n",
        "\n",
        "    #5 fold cross validation predicted values and the corresponding true labels\n",
        "    clf = RandomForestClassifier(n_estimators=100, class_weight=\"balanced\", random_state=4)\n",
        "\n",
        "    #do a stratfieid cv, iterate through all splits so we know the label and prediction value \n",
        "    ss = StratifiedShuffleSplit(n_splits=5, test_size=0.2, random_state=4)\n",
        "    splits = ss.split(X=model_cv_X, y=model_cv_Y)\n",
        "\n",
        "    cv_predicted = pd.DataFrame(columns=[\"bot_prob\"])\n",
        "    cv_Y = np.array([])\n",
        "\n",
        "    for split in splits:\n",
        "        train, test = split\n",
        "        \n",
        "        train_X = model_cv_X.iloc[train]\n",
        "        train_Y = model_cv_Y.iloc[train]\n",
        "        test_X = model_cv_X.iloc[test]\n",
        "        test_Y = model_cv_Y.iloc[test]\n",
        "        clf.fit(train_X, train_Y)\n",
        "\n",
        "        cv_bot_scores =  pd.DataFrame(clf.predict_proba(test_X), columns = [\"human_prob\", \"bot_prob\"])\n",
        "        predicted = cv_bot_scores.drop(\"human_prob\", axis=1)\n",
        "\n",
        "        #the predicted values are dataframes, the cv_Y values are numpy arrays\n",
        "        cv_predicted = pd.concat([cv_predicted, predicted], ignore_index=True)\n",
        "        cv_Y = np.concatenate((cv_Y, test_Y))\n",
        "\n",
        "\n",
        "    #get predicted values for the test data\n",
        "    model = joblib.load(os.path.join(models_path, f\"{model_stripped}.joblib\"))\n",
        "    test_data_bot_scores =  pd.DataFrame(model.predict_proba(all_test_data_X), columns = [\"human_prob\", \"bot_prob\"])\n",
        "    test_data_predicted = test_data_bot_scores.drop(\"human_prob\", axis=1)\n",
        "\n",
        "\n",
        "    #merge the CV predicted values and the test data predicted values for fig4a\n",
        "    predicted = pd.DataFrame()\n",
        "    predicted[\"cv\"] = cv_predicted\n",
        "    predicted[\"test_data\"] = test_data_predicted\n",
        "\n",
        "\n",
        "    #calculate the F1 score for each threshold\n",
        "    thresholds = [x / 100 for x in range(0, 100 + 2, 2)] #0, 0.02, 0.04,... 1\n",
        "\n",
        "    threshold_f1 = pd.DataFrame(columns=[\"threshold\", \"test_data\", \"cv_data\"])\n",
        "\n",
        "    for threshold in thresholds:\n",
        "        test_data_classification = test_data_predicted.apply(lambda row: int(row[\"bot_prob\"] >= threshold), axis=1)\n",
        "        test_data_f1 = f1_score(all_test_data_Y, test_data_classification)\n",
        "\n",
        "        cv_data_classification = cv_predicted.apply(lambda row: int(row[\"bot_prob\"] >= threshold), axis=1)\n",
        "        cv_data_f1 = f1_score(cv_Y, cv_data_classification)\n",
        "\n",
        "        #from pandas documentation on appending an observation to a df\n",
        "        observation = pd.Series({\"threshold\": threshold, \"test_data\": test_data_f1, \"cv_data\": cv_data_f1}).to_frame().T\n",
        "\n",
        "        threshold_f1 = pd.concat([threshold_f1, observation], ignore_index = True)\n",
        "\n",
        "        print(\"Finished\" , threshold)\n",
        "\n",
        "    #set index to help with automatic plotting of the index as x axis later\n",
        "    threshold_f1 = threshold_f1.set_index(\"threshold\")\n",
        "\n",
        "\n",
        "    return (predicted, threshold_f1)\n",
        "    "
      ]
    },
    {
      "cell_type": "code",
      "execution_count": 30,
      "metadata": {},
      "outputs": [
        {
          "name": "stderr",
          "output_type": "stream",
          "text": [
            "/home/mcse/.local/lib/python3.8/site-packages/sklearn/base.py:329: UserWarning: Trying to unpickle estimator DecisionTreeClassifier from version 1.0.2 when using version 1.1.2. This might lead to breaking code or invalid results. Use at your own risk. For more info please refer to:\n",
            "https://scikit-learn.org/stable/model_persistence.html#security-maintainability-limitations\n",
            "  warnings.warn(\n",
            "/home/mcse/.local/lib/python3.8/site-packages/sklearn/base.py:329: UserWarning: Trying to unpickle estimator RandomForestClassifier from version 1.0.2 when using version 1.1.2. This might lead to breaking code or invalid results. Use at your own risk. For more info please refer to:\n",
            "https://scikit-learn.org/stable/model_persistence.html#security-maintainability-limitations\n",
            "  warnings.warn(\n"
          ]
        },
        {
          "name": "stdout",
          "output_type": "stream",
          "text": [
            "Finished 0.0\n",
            "Finished 0.02\n",
            "Finished 0.04\n",
            "Finished 0.06\n",
            "Finished 0.08\n",
            "Finished 0.1\n",
            "Finished 0.12\n",
            "Finished 0.14\n",
            "Finished 0.16\n",
            "Finished 0.18\n",
            "Finished 0.2\n",
            "Finished 0.22\n",
            "Finished 0.24\n",
            "Finished 0.26\n",
            "Finished 0.28\n",
            "Finished 0.3\n",
            "Finished 0.32\n",
            "Finished 0.34\n",
            "Finished 0.36\n",
            "Finished 0.38\n",
            "Finished 0.4\n",
            "Finished 0.42\n",
            "Finished 0.44\n",
            "Finished 0.46\n",
            "Finished 0.48\n",
            "Finished 0.5\n",
            "Finished 0.52\n",
            "Finished 0.54\n",
            "Finished 0.56\n",
            "Finished 0.58\n",
            "Finished 0.6\n",
            "Finished 0.62\n",
            "Finished 0.64\n",
            "Finished 0.66\n",
            "Finished 0.68\n",
            "Finished 0.7\n",
            "Finished 0.72\n",
            "Finished 0.74\n",
            "Finished 0.76\n",
            "Finished 0.78\n",
            "Finished 0.8\n",
            "Finished 0.82\n",
            "Finished 0.84\n",
            "Finished 0.86\n",
            "Finished 0.88\n",
            "Finished 0.9\n",
            "Finished 0.92\n",
            "Finished 0.94\n",
            "Finished 0.96\n",
            "Finished 0.98\n",
            "Finished 1.0\n"
          ]
        }
      ],
      "source": [
        "model_name = top_model #m196 is 1101011\n",
        "\n",
        "#can take up to a minute to run\n",
        "predicted, threshold_f1 = get_predicted_threshold(model_name)"
      ]
    },
    {
      "cell_type": "code",
      "execution_count": 33,
      "metadata": {
        "colab": {
          "base_uri": "https://localhost:8080/",
          "height": 279
        },
        "id": "Fmh2et9XNVKg",
        "outputId": "6d703cf0-14d3-4f5b-c767-abdbcf99639e"
      },
      "outputs": [
        {
          "data": {
            "text/html": [
              "<div>\n",
              "<style scoped>\n",
              "    .dataframe tbody tr th:only-of-type {\n",
              "        vertical-align: middle;\n",
              "    }\n",
              "\n",
              "    .dataframe tbody tr th {\n",
              "        vertical-align: top;\n",
              "    }\n",
              "\n",
              "    .dataframe thead th {\n",
              "        text-align: right;\n",
              "    }\n",
              "</style>\n",
              "<table border=\"1\" class=\"dataframe\">\n",
              "  <thead>\n",
              "    <tr style=\"text-align: right;\">\n",
              "      <th></th>\n",
              "      <th>cv</th>\n",
              "      <th>test_data</th>\n",
              "    </tr>\n",
              "  </thead>\n",
              "  <tbody>\n",
              "    <tr>\n",
              "      <th>0</th>\n",
              "      <td>1.00</td>\n",
              "      <td>0.58</td>\n",
              "    </tr>\n",
              "    <tr>\n",
              "      <th>1</th>\n",
              "      <td>0.00</td>\n",
              "      <td>0.36</td>\n",
              "    </tr>\n",
              "    <tr>\n",
              "      <th>2</th>\n",
              "      <td>0.00</td>\n",
              "      <td>0.08</td>\n",
              "    </tr>\n",
              "    <tr>\n",
              "      <th>3</th>\n",
              "      <td>0.99</td>\n",
              "      <td>0.10</td>\n",
              "    </tr>\n",
              "    <tr>\n",
              "      <th>4</th>\n",
              "      <td>1.00</td>\n",
              "      <td>0.58</td>\n",
              "    </tr>\n",
              "    <tr>\n",
              "      <th>...</th>\n",
              "      <td>...</td>\n",
              "      <td>...</td>\n",
              "    </tr>\n",
              "    <tr>\n",
              "      <th>15930</th>\n",
              "      <td>1.00</td>\n",
              "      <td>0.70</td>\n",
              "    </tr>\n",
              "    <tr>\n",
              "      <th>15931</th>\n",
              "      <td>0.00</td>\n",
              "      <td>0.04</td>\n",
              "    </tr>\n",
              "    <tr>\n",
              "      <th>15932</th>\n",
              "      <td>0.00</td>\n",
              "      <td>0.77</td>\n",
              "    </tr>\n",
              "    <tr>\n",
              "      <th>15933</th>\n",
              "      <td>0.01</td>\n",
              "      <td>0.86</td>\n",
              "    </tr>\n",
              "    <tr>\n",
              "      <th>15934</th>\n",
              "      <td>0.01</td>\n",
              "      <td>0.93</td>\n",
              "    </tr>\n",
              "  </tbody>\n",
              "</table>\n",
              "<p>15935 rows × 2 columns</p>\n",
              "</div>"
            ],
            "text/plain": [
              "         cv  test_data\n",
              "0      1.00       0.58\n",
              "1      0.00       0.36\n",
              "2      0.00       0.08\n",
              "3      0.99       0.10\n",
              "4      1.00       0.58\n",
              "...     ...        ...\n",
              "15930  1.00       0.70\n",
              "15931  0.00       0.04\n",
              "15932  0.00       0.77\n",
              "15933  0.01       0.86\n",
              "15934  0.01       0.93\n",
              "\n",
              "[15935 rows x 2 columns]"
            ]
          },
          "execution_count": 33,
          "metadata": {},
          "output_type": "execute_result"
        },
        {
          "data": {
            "image/png": "[encoded data removed]",
            "text/plain": [
              "<Figure size 432x288 with 1 Axes>"
            ]
          },
          "metadata": {
            "needs_background": "light"
          },
          "output_type": "display_data"
        }
      ],
      "source": [
        "graph = sns.kdeplot(data=predicted, common_norm=False, clip=(0,1), bw_adjust=0.2, palette=['r', 'b'])\n",
        "graph.set(xlabel=\"Bot score\")\n",
        "\n",
        "fig = graph.get_figure()\n",
        "fig4a_name = f\"{model_name}_fig4a.svg\"\n",
        "fig.savefig(os.path.join(results_path, fig4a_name))"
      ]
    },
    {
      "cell_type": "code",
      "execution_count": 32,
      "metadata": {
        "colab": {
          "base_uri": "https://localhost:8080/",
          "height": 283
        },
        "id": "vgl6HuFdOyOj",
        "outputId": "b6f94dc8-fcc3-46c8-dd31-dc8f8717a36a"
      },
      "outputs": [
        {
          "data": {
            "image/png": "[encoded data removed]",
            "text/plain": [
              "<Figure size 432x288 with 1 Axes>"
            ]
          },
          "metadata": {
            "needs_background": "light"
          },
          "output_type": "display_data"
        }
      ],
      "source": [
        "\n",
        "graph = sns.lineplot(data=threshold_f1, palette=['b', 'r'], dashes=False)\n",
        "graph.set(xlabel=\"Bot score threshold\", ylabel=\"F1 score\", ylim=(0,1))\n",
        "\n",
        "#get index of observation with highest f1_score, then retrieve its threshold\n",
        "maxes = threshold_f1.idxmax(axis=0)\n",
        "\n",
        "max_test_f1_threshold = maxes[\"test_data\"]\n",
        "max_cv_f1_threshold = maxes[\"cv_data\"]\n",
        "\n",
        "\n",
        "graph.axvline(max_test_f1_threshold, linestyle=\"--\", color=\"blue\")\n",
        "graph.axvline(max_cv_f1_threshold, linestyle=\"--\", color=\"red\")\n",
        "\n",
        "fig = graph.get_figure()\n",
        "\n",
        "fig4b_name = f\"{model_name}_fig4b.png\"\n",
        "fig.savefig(os.path.join(results_path, fig4b_name))"
      ]
    },
    {
      "cell_type": "markdown",
      "metadata": {},
      "source": [
        "Find correlations between stds of model results and other features"
      ]
    },
    {
      "cell_type": "code",
      "execution_count": 29,
      "metadata": {
        "colab": {
          "base_uri": "https://localhost:8080/",
          "height": 143
        },
        "id": "fjCwyvQcmXB1",
        "outputId": "f5ddf695-150f-44f2-ee0e-1a60624d8682"
      },
      "outputs": [
        {
          "data": {
            "text/html": [
              "<div>\n",
              "<style scoped>\n",
              "    .dataframe tbody tr th:only-of-type {\n",
              "        vertical-align: middle;\n",
              "    }\n",
              "\n",
              "    .dataframe tbody tr th {\n",
              "        vertical-align: top;\n",
              "    }\n",
              "\n",
              "    .dataframe thead th {\n",
              "        text-align: right;\n",
              "    }\n",
              "</style>\n",
              "<table border=\"1\" class=\"dataframe\">\n",
              "  <thead>\n",
              "    <tr style=\"text-align: right;\">\n",
              "      <th></th>\n",
              "      <th>std_rank</th>\n",
              "      <th>rank</th>\n",
              "      <th>train_size</th>\n",
              "    </tr>\n",
              "  </thead>\n",
              "  <tbody>\n",
              "    <tr>\n",
              "      <th>std_rank</th>\n",
              "      <td>1.000000</td>\n",
              "      <td>0.333072</td>\n",
              "      <td>-0.299544</td>\n",
              "    </tr>\n",
              "    <tr>\n",
              "      <th>rank</th>\n",
              "      <td>0.333072</td>\n",
              "      <td>1.000000</td>\n",
              "      <td>-0.137851</td>\n",
              "    </tr>\n",
              "    <tr>\n",
              "      <th>train_size</th>\n",
              "      <td>-0.299544</td>\n",
              "      <td>-0.137851</td>\n",
              "      <td>1.000000</td>\n",
              "    </tr>\n",
              "  </tbody>\n",
              "</table>\n",
              "</div>"
            ],
            "text/plain": [
              "            std_rank      rank  train_size\n",
              "std_rank    1.000000  0.333072   -0.299544\n",
              "rank        0.333072  1.000000   -0.137851\n",
              "train_size -0.299544 -0.137851    1.000000"
            ]
          },
          "execution_count": 29,
          "metadata": {},
          "output_type": "execute_result"
        }
      ],
      "source": [
        "#load results\n",
        "stds = pd.read_csv(os.path.join(results_path, \"std.csv\"))\n",
        "\n",
        "#make all the strings 7 digits long by adding zeros in front\n",
        "stds[\"name\"] = stds.apply(lambda row: \"M\" + str(int(row[\"name\"])).zfill(7), axis=1)\n",
        "\n",
        "#rank the standard deviations of each model by calculating the average value of their six standard deviations (across eval metrics)\n",
        "stds[\"std_rank\"] = stds.mean(numeric_only=True, axis=1).rank()\n",
        "\n",
        "stds_ranks = stds.merge(ranked_results, on=\"name\")\n",
        "\n",
        "train_datasets_size = [len(df) for df in datasets[:7]]\n",
        "\n",
        "def get_train_size(model_name):\n",
        "  name = model_name.strip(\"M\")\n",
        "  size = 0\n",
        "  \n",
        "  for i, c in enumerate(name):\n",
        "    if c == \"1\":\n",
        "      size += train_datasets_size[i]\n",
        "\n",
        "  return size\n",
        "\n",
        "stds_ranks[\"train_size\"] = stds.apply(lambda row: get_train_size(row[\"name\"]), axis=1)\n",
        "\n",
        "#correlation between avg std rank (lower std lower/better rank) to model performance rank, and the amount of data the model was trained on\n",
        "\n",
        "stds_ranks[[\"std_rank\", \"rank\", \"train_size\"]].corr(method=\"spearman\")\n"
      ]
    }
  ],
  "metadata": {
    "colab": {
      "collapsed_sections": [],
      "provenance": []
    },
    "kernelspec": {
      "display_name": "Python 3.8.10 64-bit",
      "language": "python",
      "name": "python3"
    },
    "language_info": {
      "codemirror_mode": {
        "name": "ipython",
        "version": 3
      },
      "file_extension": ".py",
      "mimetype": "text/x-python",
      "name": "python",
      "nbconvert_exporter": "python",
      "pygments_lexer": "ipython3",
      "version": "3.8.10"
    },
    "vscode": {
      "interpreter": {
        "hash": "916dbcbb3f70747c44a77c7bcd40155683ae19c65e1c03b4aa3499c5328201f1"
      }
    }
  },
  "nbformat": 4,
  "nbformat_minor": 0
}
