{
  "cells": [
    {
      "cell_type": "code",
      "execution_count": 2,
      "metadata": {
        "colab": {
          "base_uri": "https://localhost:8080/"
        },
        "id": "zyM1RWpkF5jB",
        "outputId": "b79cd8f1-6504-430e-bc7b-27b7af9e6e60"
      },
      "outputs": [],
      "source": [
        "import os\n",
        "import pandas as pd\n",
        "\n",
        "#this directory contains the csv with all the models' metrics, and all tables generated in this notebook will go here\n",
        "results_path = \"./results/5_final_results/\"\n",
        "models_path = \"./models/5_final_results/\""
      ]
    },
    {
      "cell_type": "code",
      "execution_count": 14,
      "metadata": {
        "id": "fug-QU1dHK-T"
      },
      "outputs": [],
      "source": [
        "#load results\n",
        "results = pd.read_csv(os.path.join(results_path, \"mean.csv\"))\n",
        "#make all the strings 7 digits long by adding zeros in front\n",
        "results[\"name\"] = results.apply(lambda row: \"M\" + str(int(row[\"name\"])).zfill(7), axis=1)\n",
        "\n",
        "#obtain the relative orders of each column, keeping the column name\n",
        "ranks = results.drop(\"name\", axis=1).rank(ascending=False).add_suffix(\"_rank\")\n",
        "ranked_results = pd.concat([results, ranks], axis=1)\n",
        "\n",
        "#find the product of the ranks of each column\n",
        "metrics_to_eval = [\"botwiki-verified_rank\", \"midterm-18_rank\", \"gilani-17_rank\", \"cresci-rtbust_rank\", \"5-fold_cross-validation_rank\", \"spearman_r_rank\"]\n",
        "rank_product = ranked_results[metrics_to_eval].product(axis=1)\n",
        "\n",
        "\n",
        "#drop the ranks of the test metrics since they aren't useful in the tables\n",
        "ranked_results = ranked_results.drop(labels=ranked_results.columns[7:],axis=1)\n",
        "\n",
        "\n",
        "#get the rank of the products (used for a lookup later)\n",
        "ranked_results[\"rank\"] = rank_product.rank(ascending=True)\n",
        "\n"
      ]
    },
    {
      "cell_type": "code",
      "execution_count": 15,
      "metadata": {
        "colab": {
          "base_uri": "https://localhost:8080/",
          "height": 269
        },
        "id": "j2REFmL4bugl",
        "outputId": "b07addf6-0c51-48c4-844d-f20a77e1eca0"
      },
      "outputs": [
        {
          "data": {
            "text/html": [
              "<div>\n",
              "<style scoped>\n",
              "    .dataframe tbody tr th:only-of-type {\n",
              "        vertical-align: middle;\n",
              "    }\n",
              "\n",
              "    .dataframe tbody tr th {\n",
              "        vertical-align: top;\n",
              "    }\n",
              "\n",
              "    .dataframe thead th {\n",
              "        text-align: right;\n",
              "    }\n",
              "</style>\n",
              "<table border=\"1\" class=\"dataframe\">\n",
              "  <thead>\n",
              "    <tr style=\"text-align: right;\">\n",
              "      <th>name</th>\n",
              "      <th>M0101000</th>\n",
              "      <th>M0101010</th>\n",
              "      <th>M1010010</th>\n",
              "    </tr>\n",
              "  </thead>\n",
              "  <tbody>\n",
              "    <tr>\n",
              "      <th>botwiki-verified</th>\n",
              "      <td>0.99</td>\n",
              "      <td>0.99</td>\n",
              "      <td>0.98</td>\n",
              "    </tr>\n",
              "    <tr>\n",
              "      <th>midterm-18</th>\n",
              "      <td>0.98</td>\n",
              "      <td>0.98</td>\n",
              "      <td>0.96</td>\n",
              "    </tr>\n",
              "    <tr>\n",
              "      <th>gilani-17</th>\n",
              "      <td>0.65</td>\n",
              "      <td>0.68</td>\n",
              "      <td>0.76</td>\n",
              "    </tr>\n",
              "    <tr>\n",
              "      <th>cresci-rtbust</th>\n",
              "      <td>0.76</td>\n",
              "      <td>0.68</td>\n",
              "      <td>0.64</td>\n",
              "    </tr>\n",
              "    <tr>\n",
              "      <th>5-fold_cross-validation</th>\n",
              "      <td>0.99</td>\n",
              "      <td>0.99</td>\n",
              "      <td>0.99</td>\n",
              "    </tr>\n",
              "    <tr>\n",
              "      <th>spearman_r</th>\n",
              "      <td>0.67</td>\n",
              "      <td>0.63</td>\n",
              "      <td>0.69</td>\n",
              "    </tr>\n",
              "    <tr>\n",
              "      <th>rank</th>\n",
              "      <td>0.99</td>\n",
              "      <td>2.00</td>\n",
              "      <td>3.00</td>\n",
              "    </tr>\n",
              "  </tbody>\n",
              "</table>\n",
              "</div>"
            ],
            "text/plain": [
              "name                     M0101000  M0101010  M1010010\n",
              "botwiki-verified             0.99      0.99      0.98\n",
              "midterm-18                   0.98      0.98      0.96\n",
              "gilani-17                    0.65      0.68      0.76\n",
              "cresci-rtbust                0.76      0.68      0.64\n",
              "5-fold_cross-validation      0.99      0.99      0.99\n",
              "spearman_r                   0.67      0.63      0.69\n",
              "rank                         0.99      2.00      3.00"
            ]
          },
          "execution_count": 15,
          "metadata": {},
          "output_type": "execute_result"
        }
      ],
      "source": [
        "#get the best n results\n",
        "n = 3\n",
        "\n",
        "#once rank is calculated, round all metrics for readability\n",
        "def round_except_1(val):\n",
        "    if round(val, 2) == 1:\n",
        "        return 0.99\n",
        "    return round(val,2)\n",
        "    \n",
        "top_results = ranked_results.sort_values(\"rank\").head(n).set_index(\"name\").transpose().applymap(round_except_1)\n",
        "\n",
        "top_results_file = os.path.join(results_path, \"top_results.csv\")\n",
        "top_results.to_csv(top_results_file)\n",
        "\n",
        "top_models = top_results.columns\n",
        "top_model = top_models[0]\n",
        "\n",
        "top_results"
      ]
    },
    {
      "cell_type": "code",
      "execution_count": 16,
      "metadata": {
        "colab": {
          "base_uri": "https://localhost:8080/",
          "height": 408
        },
        "id": "IvsaV2X_U_ZS",
        "outputId": "dd9f8525-9fc4-4f9c-a167-4b2a3885af89"
      },
      "outputs": [
        {
          "name": "stdout",
          "output_type": "stream",
          "text": [
            "varol: 0.160\n",
            "cresci-17: 0.440\n",
            "pronbots: 0.560\n",
            "celebrity: 0.400\n",
            "vendor-purchased: 0.280\n",
            "botometer-feedback: 0.800\n",
            "political-bots: 0.440\n",
            "[4, 11, 14, 10, 7, 20, 11]\n"
          ]
        },
        {
          "data": {
            "text/html": [
              "<div>\n",
              "<style scoped>\n",
              "    .dataframe tbody tr th:only-of-type {\n",
              "        vertical-align: middle;\n",
              "    }\n",
              "\n",
              "    .dataframe tbody tr th {\n",
              "        vertical-align: top;\n",
              "    }\n",
              "\n",
              "    .dataframe thead th {\n",
              "        text-align: right;\n",
              "    }\n",
              "</style>\n",
              "<table border=\"1\" class=\"dataframe\">\n",
              "  <thead>\n",
              "    <tr style=\"text-align: right;\">\n",
              "      <th></th>\n",
              "      <th>varol</th>\n",
              "      <th>cresci-17</th>\n",
              "      <th>pronbots</th>\n",
              "      <th>celebrity</th>\n",
              "      <th>vendor-purchased</th>\n",
              "      <th>botometer-feedback</th>\n",
              "      <th>political-bots</th>\n",
              "    </tr>\n",
              "  </thead>\n",
              "  <tbody>\n",
              "    <tr>\n",
              "      <th>varol</th>\n",
              "      <td>1.00</td>\n",
              "      <td>0.00</td>\n",
              "      <td>1.00</td>\n",
              "      <td>0.00</td>\n",
              "      <td>0.50</td>\n",
              "      <td>1.00</td>\n",
              "      <td>0.50</td>\n",
              "    </tr>\n",
              "    <tr>\n",
              "      <th>cresci-17</th>\n",
              "      <td>0.00</td>\n",
              "      <td>1.00</td>\n",
              "      <td>0.27</td>\n",
              "      <td>0.64</td>\n",
              "      <td>0.00</td>\n",
              "      <td>0.55</td>\n",
              "      <td>0.45</td>\n",
              "    </tr>\n",
              "    <tr>\n",
              "      <th>pronbots</th>\n",
              "      <td>0.29</td>\n",
              "      <td>0.21</td>\n",
              "      <td>1.00</td>\n",
              "      <td>0.43</td>\n",
              "      <td>0.36</td>\n",
              "      <td>0.93</td>\n",
              "      <td>0.43</td>\n",
              "    </tr>\n",
              "    <tr>\n",
              "      <th>celebrity</th>\n",
              "      <td>0.00</td>\n",
              "      <td>0.70</td>\n",
              "      <td>0.60</td>\n",
              "      <td>1.00</td>\n",
              "      <td>0.10</td>\n",
              "      <td>0.70</td>\n",
              "      <td>0.40</td>\n",
              "    </tr>\n",
              "    <tr>\n",
              "      <th>vendor-purchased</th>\n",
              "      <td>0.29</td>\n",
              "      <td>0.00</td>\n",
              "      <td>0.71</td>\n",
              "      <td>0.14</td>\n",
              "      <td>1.00</td>\n",
              "      <td>1.00</td>\n",
              "      <td>0.43</td>\n",
              "    </tr>\n",
              "    <tr>\n",
              "      <th>botometer-feedback</th>\n",
              "      <td>0.20</td>\n",
              "      <td>0.30</td>\n",
              "      <td>0.65</td>\n",
              "      <td>0.35</td>\n",
              "      <td>0.35</td>\n",
              "      <td>1.00</td>\n",
              "      <td>0.45</td>\n",
              "    </tr>\n",
              "    <tr>\n",
              "      <th>political-bots</th>\n",
              "      <td>0.18</td>\n",
              "      <td>0.45</td>\n",
              "      <td>0.55</td>\n",
              "      <td>0.36</td>\n",
              "      <td>0.27</td>\n",
              "      <td>0.82</td>\n",
              "      <td>1.00</td>\n",
              "    </tr>\n",
              "  </tbody>\n",
              "</table>\n",
              "</div>"
            ],
            "text/plain": [
              "                    varol  cresci-17  pronbots  celebrity  vendor-purchased  \\\n",
              "varol                1.00       0.00      1.00       0.00              0.50   \n",
              "cresci-17            0.00       1.00      0.27       0.64              0.00   \n",
              "pronbots             0.29       0.21      1.00       0.43              0.36   \n",
              "celebrity            0.00       0.70      0.60       1.00              0.10   \n",
              "vendor-purchased     0.29       0.00      0.71       0.14              1.00   \n",
              "botometer-feedback   0.20       0.30      0.65       0.35              0.35   \n",
              "political-bots       0.18       0.45      0.55       0.36              0.27   \n",
              "\n",
              "                    botometer-feedback  political-bots  \n",
              "varol                             1.00            0.50  \n",
              "cresci-17                         0.55            0.45  \n",
              "pronbots                          0.93            0.43  \n",
              "celebrity                         0.70            0.40  \n",
              "vendor-purchased                  1.00            0.43  \n",
              "botometer-feedback                1.00            0.45  \n",
              "political-bots                    0.82            1.00  "
            ]
          },
          "execution_count": 16,
          "metadata": {},
          "output_type": "execute_result"
        }
      ],
      "source": [
        "n = 25\n",
        "top_result_names = ranked_results.sort_values(\"rank\").head(n)[\"name\"]\n",
        "top_result_names\n",
        "\n",
        "dataset_list = [\"varol\", \"cresci-17\", \"pronbots\", \"celebrity\", \"vendor-purchased\", \"botometer-feedback\", \"political-bots\"]\n",
        "dataset_count = [0] * len(dataset_list)\n",
        "\n",
        "#given a dataset appearing in a row, what is the prob it appeared alongside the given column\n",
        "conditional_prob = pd.DataFrame(0, index=dataset_list, columns=dataset_list)\n",
        "\n",
        "#get counts of dataset appearences in top 20 ranked, and their co_occurences\n",
        "for name in top_result_names:\n",
        "  indices = [i for i, char in enumerate(name.strip(\"M\")) if char == \"1\"]\n",
        "  for i in indices:\n",
        "    dataset_count[i] += 1\n",
        "    for j in indices:\n",
        "      #indexing is [col][row]\n",
        "      conditional_prob[dataset_list[i]][dataset_list[j]] += 1\n",
        "\n",
        "for i, dataset in enumerate(dataset_list):\n",
        "  print(f\"{dataset}: {dataset_count[i] / n:.3f}\")    \n",
        "\n",
        "print(dataset_count)\n",
        "conditional_table = conditional_prob.divide(dataset_count, axis='index').round(decimals=2)\n",
        "conditional_table"
      ]
    },
    {
      "cell_type": "code",
      "execution_count": 17,
      "metadata": {
        "colab": {
          "base_uri": "https://localhost:8080/",
          "height": 328
        },
        "id": "9M64VpLqmMnl",
        "outputId": "64178f78-9bb5-40b9-a485-64a22a618df7"
      },
      "outputs": [
        {
          "data": {
            "text/plain": [
              "[Text(0.5, 0, 'varol'),\n",
              " Text(1.5, 0, 'cresci-17'),\n",
              " Text(2.5, 0, 'pronbots'),\n",
              " Text(3.5, 0, 'celebrity'),\n",
              " Text(4.5, 0, 'vendor-purchased'),\n",
              " Text(5.5, 0, 'botometer-feedback'),\n",
              " Text(6.5, 0, 'political-bots')]"
            ]
          },
          "execution_count": 17,
          "metadata": {},
          "output_type": "execute_result"
        },
        {
          "data": {
            "image/png": "[encoded data removed]",
            "text/plain": [
              "<Figure size 432x288 with 2 Axes>"
            ]
          },
          "metadata": {
            "needs_background": "light"
          },
          "output_type": "display_data"
        }
      ],
      "source": [
        "import seaborn as sns\n",
        "import matplotlib.pyplot as plt\n",
        "\n",
        "graph = sns.heatmap(data=conditional_table, annot=True, cmap=\"Spectral\")\n",
        "\n",
        "graph.set_title(f\"Probabilities of Datasets Occuring Together in Top {n} Models\")\n",
        "\n",
        "graph.set_xticklabels(graph.get_xticklabels(), rotation=45, horizontalalignment='right')\n",
        "\n",
        "#plt.xticks(rotation=45)"
      ]
    },
    {
      "cell_type": "code",
      "execution_count": 18,
      "metadata": {
        "colab": {
          "base_uri": "https://localhost:8080/",
          "height": 373
        },
        "id": "vfJP1_vHJ8Yz",
        "outputId": "10c9cd91-952f-4f7c-bb32-43c707393586"
      },
      "outputs": [
        {
          "name": "stderr",
          "output_type": "stream",
          "text": [
            "/tmp/ipykernel_338/3850043466.py:10: SettingWithCopyWarning: \n",
            "A value is trying to be set on a copy of a slice from a DataFrame.\n",
            "Try using .loc[row_indexer,col_indexer] = value instead\n",
            "\n",
            "See the caveats in the documentation: https://pandas.pydata.org/pandas-docs/stable/user_guide/indexing.html#returning-a-view-versus-a-copy\n",
            "  table4['name'] = table4.apply(lambda row: model_name_conversion[row['name']], axis=1)\n"
          ]
        },
        {
          "data": {
            "text/html": [
              "<div>\n",
              "<style scoped>\n",
              "    .dataframe tbody tr th:only-of-type {\n",
              "        vertical-align: middle;\n",
              "    }\n",
              "\n",
              "    .dataframe tbody tr th {\n",
              "        vertical-align: top;\n",
              "    }\n",
              "\n",
              "    .dataframe thead th {\n",
              "        text-align: right;\n",
              "    }\n",
              "</style>\n",
              "<table border=\"1\" class=\"dataframe\">\n",
              "  <thead>\n",
              "    <tr style=\"text-align: right;\">\n",
              "      <th>name</th>\n",
              "      <th>M196</th>\n",
              "      <th>M125</th>\n",
              "      <th>M191</th>\n",
              "      <th>M246_revised</th>\n",
              "    </tr>\n",
              "  </thead>\n",
              "  <tbody>\n",
              "    <tr>\n",
              "      <th>botwiki-verified</th>\n",
              "      <td>0.976445</td>\n",
              "      <td>0.976907</td>\n",
              "      <td>0.976310</td>\n",
              "      <td>0.980556</td>\n",
              "    </tr>\n",
              "    <tr>\n",
              "      <th>midterm-18</th>\n",
              "      <td>0.954154</td>\n",
              "      <td>0.956299</td>\n",
              "      <td>0.962986</td>\n",
              "      <td>0.966392</td>\n",
              "    </tr>\n",
              "    <tr>\n",
              "      <th>gilani-17</th>\n",
              "      <td>0.688437</td>\n",
              "      <td>0.680251</td>\n",
              "      <td>0.681520</td>\n",
              "      <td>0.674982</td>\n",
              "    </tr>\n",
              "    <tr>\n",
              "      <th>cresci-rtbust</th>\n",
              "      <td>0.617694</td>\n",
              "      <td>0.646842</td>\n",
              "      <td>0.646209</td>\n",
              "      <td>0.635290</td>\n",
              "    </tr>\n",
              "    <tr>\n",
              "      <th>5-fold_cross-validation</th>\n",
              "      <td>0.990705</td>\n",
              "      <td>0.990380</td>\n",
              "      <td>0.987928</td>\n",
              "      <td>0.994277</td>\n",
              "    </tr>\n",
              "    <tr>\n",
              "      <th>spearman_r</th>\n",
              "      <td>0.486382</td>\n",
              "      <td>0.478350</td>\n",
              "      <td>0.498116</td>\n",
              "      <td>0.546170</td>\n",
              "    </tr>\n",
              "    <tr>\n",
              "      <th>rank</th>\n",
              "      <td>90.000000</td>\n",
              "      <td>91.000000</td>\n",
              "      <td>84.000000</td>\n",
              "      <td>61.000000</td>\n",
              "    </tr>\n",
              "  </tbody>\n",
              "</table>\n",
              "</div>"
            ],
            "text/plain": [
              "name                          M196       M125       M191  M246_revised\n",
              "botwiki-verified          0.976445   0.976907   0.976310      0.980556\n",
              "midterm-18                0.954154   0.956299   0.962986      0.966392\n",
              "gilani-17                 0.688437   0.680251   0.681520      0.674982\n",
              "cresci-rtbust             0.617694   0.646842   0.646209      0.635290\n",
              "5-fold_cross-validation   0.990705   0.990380   0.987928      0.994277\n",
              "spearman_r                0.486382   0.478350   0.498116      0.546170\n",
              "rank                     90.000000  91.000000  84.000000     61.000000"
            ]
          },
          "execution_count": 18,
          "metadata": {},
          "output_type": "execute_result"
        }
      ],
      "source": [
        "#get the ranks of the models in original table 4 for comparison\n",
        "lookup_names = [\"M1101011\", \"M1101010\", \"M1101110\", \"M1111111\"]\n",
        "table4 = ranked_results.loc[ranked_results['name'].isin(lookup_names)]\n",
        "\n",
        "#get the names used in the paper\n",
        "model_name_conversion = {\"M1101011\": \"M196\",\n",
        "                         \"M1101010\": \"M125\",\n",
        "                         \"M1101110\": \"M191\",\n",
        "                         \"M1111111\": \"M246_revised\"}\n",
        "table4['name'] = table4.apply(lambda row: model_name_conversion[row['name']], axis=1)\n",
        "\n",
        "#reorder to have models in same order as paper\n",
        "table4 = table4.set_index(\"name\").transpose()[[\"M196\", \"M125\", \"M191\", \"M246_revised\"]]\n",
        "\n",
        "table4_file = os.path.join(results_path, \"table4.csv\")\n",
        "table4.to_csv(table4_file)\n",
        "table4"
      ]
    },
    {
      "cell_type": "code",
      "execution_count": 9,
      "metadata": {
        "id": "QORiaHa9pAbi"
      },
      "outputs": [],
      "source": [
        "# Seven training datasets\n",
        "dataset_path = \"data_csv/final\"\n",
        "\n",
        "varol = pd.read_csv(dataset_path + '/varol-17.csv')\n",
        "cresci_17 = pd.read_csv(dataset_path + '/cresci-17.csv')\n",
        "pronbots = pd.read_csv(dataset_path + '/pronbots-2019.csv')\n",
        "celebrity = pd.read_csv(dataset_path + '/celebrity-2019.csv')\n",
        "vendor = pd.read_csv(dataset_path + '/vendor-purchased-2019.csv')\n",
        "botometer = pd.read_csv(dataset_path + '/botometer-feedback-2019.csv')\n",
        "political = pd.read_csv(dataset_path + '/political-bots-2019.csv')\n",
        "\n",
        "# Testing datasets\n",
        "botwiki = pd.read_csv(dataset_path + '/botwiki-verified.csv')\n",
        "midterm = pd.read_csv(dataset_path + '/midterm-2018.csv')\n",
        "gilani = pd.read_csv(dataset_path + '/gilani-2017.csv')\n",
        "c_rtbust = pd.read_csv(dataset_path + '/cresci-rtbust-2019.csv')"
      ]
    },
    {
      "cell_type": "code",
      "execution_count": 12,
      "metadata": {
        "colab": {
          "base_uri": "https://localhost:8080/"
        },
        "id": "482d_Jgvr8mP",
        "outputId": "418e39c8-f373-4338-f3b6-e7c7cdfcd64c"
      },
      "outputs": [
        {
          "data": {
            "text/plain": [
              "[['varol-icwsm', 665, 1441],\n",
              " ['cresci-17', 6543, 3474],\n",
              " ['pronbots', 17882, 0],\n",
              " ['celebrity', 0, 5918],\n",
              " ['vendor-purchased', 1087, 0],\n",
              " ['botometer-feedback', 138, 380],\n",
              " ['political-bots', 62, 0],\n",
              " ['botwiki-verified', 698, 1987],\n",
              " ['midterm-18', 42446, 8092],\n",
              " ['gilani-17', 1090, 1394],\n",
              " ['cresci-rtbust', 353, 340]]"
            ]
          },
          "execution_count": 12,
          "metadata": {},
          "output_type": "execute_result"
        }
      ],
      "source": [
        "#get the breakdown of how many observations are in each class for all datasets\n",
        "\n",
        "datasets = [varol, cresci_17, pronbots, celebrity, vendor, botometer, political, botwiki, midterm, gilani, c_rtbust]\n",
        "dataset_names = [\"varol-icwsm\", \"cresci-17\", \"pronbots\", \"celebrity\", \"vendor-purchased\", \"botometer-feedback\", \"political-bots\", \"botwiki-verified\", \"midterm-18\", \"gilani-17\", \"cresci-rtbust\"]\n",
        "\n",
        "dataset_analysis = []\n",
        "for i, dataset in enumerate(datasets):\n",
        "  name = dataset_names[i]\n",
        "  bots = sum(dataset['is_bot'] == 1)\n",
        "  humans = sum(dataset['is_bot'] == 0)\n",
        "  dataset_analysis.append([name, bots, humans])\n",
        "\n",
        "dataset_analysis"
      ]
    },
    {
      "cell_type": "code",
      "execution_count": 14,
      "metadata": {
        "id": "e6Mv05nYGIFO"
      },
      "outputs": [],
      "source": [
        "import joblib\n",
        "import numpy as np\n",
        "import seaborn as sns\n",
        "import csv\n",
        "import matplotlib.pyplot as plt\n",
        "from sklearn.metrics import f1_score\n",
        "from sklearn.model_selection import cross_val_predict, StratifiedShuffleSplit, ShuffleSplit, StratifiedKFold\n",
        "from sklearn.ensemble import RandomForestClassifier"
      ]
    },
    {
      "cell_type": "code",
      "execution_count": 38,
      "metadata": {
        "id": "akz5d5dNJItY"
      },
      "outputs": [],
      "source": [
        "#do the top_model or the m196 model\n",
        "show_top_model = True\n",
        "\n",
        "\n",
        "all_test_data = pd.concat([botwiki, gilani, midterm, c_rtbust], ignore_index=True)\n",
        "\n",
        "top_model_stripped = top_model.strip(\"M\")\n",
        "top_model_cv_data = pd.concat([datasets[i] for i, c in enumerate(top_model_stripped) if c == \"1\"], ignore_index=True)\n",
        "\n",
        "m196_cv_data = pd.concat([varol, cresci_17, celebrity, botometer, political], ignore_index=True)\n",
        "\n",
        "\n",
        "all_test_data_X = all_test_data.drop(\"is_bot\", axis=1)\n",
        "all_test_data_Y = all_test_data[\"is_bot\"]\n",
        "\n",
        "m196_cv_data_X = m196_cv_data.drop(\"is_bot\", axis=1)\n",
        "m196_cv_data_Y = m196_cv_data[\"is_bot\"]\n",
        "\n",
        "top_model_cv_data_X = top_model_cv_data.drop(\"is_bot\", axis=1)\n",
        "top_model_cv_data_Y = top_model_cv_data[\"is_bot\"]"
      ]
    },
    {
      "cell_type": "code",
      "execution_count": 41,
      "metadata": {
        "colab": {
          "base_uri": "https://localhost:8080/"
        },
        "id": "RhqNCyM9RWuF",
        "outputId": "acd8bdaa-cb49-4a85-909d-25b1f9b406aa"
      },
      "outputs": [
        {
          "name": "stdout",
          "output_type": "stream",
          "text": [
            "       bot_prob\n",
            "0          0.00\n",
            "1          1.00\n",
            "2          0.91\n",
            "3          1.00\n",
            "4          1.00\n",
            "...         ...\n",
            "15930      0.00\n",
            "15931      0.01\n",
            "15932      1.00\n",
            "15933      1.00\n",
            "15934      0.00\n",
            "\n",
            "[15935 rows x 1 columns]\n",
            "[0. 1. 1. ... 1. 1. 0.]\n"
          ]
        }
      ],
      "source": [
        "model_cv_X = top_model_cv_data_X if show_top_model else m196_cv_data_X\n",
        "model_cv_Y = top_model_cv_data_Y if show_top_model else m196_cv_data_Y\n",
        "\n",
        "#5 fold cross validation\n",
        "\n",
        "clf = RandomForestClassifier(n_estimators=100, class_weight=\"balanced\", random_state=0)\n",
        "\n",
        "ss = StratifiedShuffleSplit(n_splits=5, test_size=0.2, random_state=0)\n",
        "splits = ss.split(X=model_cv_X, y=model_cv_Y)\n",
        "\n",
        "cv_predicted = pd.DataFrame(columns=[\"bot_prob\"])\n",
        "cv_Y = np.array([])\n",
        "\n",
        "for split in splits:\n",
        "  train, test = split\n",
        "  \n",
        "  train_X = model_cv_X.iloc[train]\n",
        "  train_Y = model_cv_Y.iloc[train]\n",
        "  test_X = model_cv_X.iloc[test]\n",
        "  test_Y = model_cv_Y.iloc[test]\n",
        "  clf.fit(train_X, train_Y)\n",
        "\n",
        "\n",
        "  cv_bot_scores =  pd.DataFrame(clf.predict_proba(test_X), columns = [\"human_prob\", \"bot_prob\"])\n",
        "  predicted = cv_bot_scores.drop(\"human_prob\", axis=1)\n",
        "\n",
        "  #the predicted values are dataframes, the cv_Y values are numpy arrays\n",
        "  cv_predicted = pd.concat([cv_predicted, predicted], ignore_index=True)\n",
        "  cv_Y = np.concatenate((cv_Y, test_Y))\n",
        "\n",
        "print(cv_predicted)\n",
        "print(cv_Y)"
      ]
    },
    {
      "cell_type": "code",
      "execution_count": 47,
      "metadata": {
        "id": "_3d0FAtYqDmq"
      },
      "outputs": [
        {
          "name": "stderr",
          "output_type": "stream",
          "text": [
            "/home/mcse/.local/lib/python3.8/site-packages/sklearn/base.py:329: UserWarning: Trying to unpickle estimator DecisionTreeClassifier from version 1.0.2 when using version 1.1.2. This might lead to breaking code or invalid results. Use at your own risk. For more info please refer to:\n",
            "https://scikit-learn.org/stable/model_persistence.html#security-maintainability-limitations\n",
            "  warnings.warn(\n",
            "/home/mcse/.local/lib/python3.8/site-packages/sklearn/base.py:329: UserWarning: Trying to unpickle estimator RandomForestClassifier from version 1.0.2 when using version 1.1.2. This might lead to breaking code or invalid results. Use at your own risk. For more info please refer to:\n",
            "https://scikit-learn.org/stable/model_persistence.html#security-maintainability-limitations\n",
            "  warnings.warn(\n"
          ]
        }
      ],
      "source": [
        "m196 = joblib.load(os.path.join(models_path, \"1101011.joblib\"))\n",
        "\n",
        "best_model = joblib.load(os.path.join(models_path, f\"{top_model_stripped}.joblib\"))\n",
        "\n",
        "model = best_model if show_top_model else m196\n",
        "\n",
        "test_data_bot_scores =  pd.DataFrame(model.predict_proba(all_test_data_X), columns = [\"human_prob\", \"bot_prob\"])\n",
        "test_data_predicted = test_data_bot_scores.drop(\"human_prob\", axis=1)\n",
        "\n",
        "#this is used for the bot scores distribution plot\n",
        "predicted = pd.DataFrame()\n",
        "predicted[\"cv\"] = cv_predicted\n",
        "predicted[\"test_data\"] = test_data_predicted"
      ]
    },
    {
      "cell_type": "code",
      "execution_count": 45,
      "metadata": {
        "colab": {
          "base_uri": "https://localhost:8080/"
        },
        "id": "8E4l4G9RENrL",
        "outputId": "0d7331be-6297-4b30-aa78-46607e2c33f7"
      },
      "outputs": [
        {
          "name": "stdout",
          "output_type": "stream",
          "text": [
            "Finished 0.0\n",
            "Finished 0.02\n",
            "Finished 0.04\n",
            "Finished 0.06\n",
            "Finished 0.08\n",
            "Finished 0.1\n",
            "Finished 0.12\n",
            "Finished 0.14\n",
            "Finished 0.16\n",
            "Finished 0.18\n",
            "Finished 0.2\n",
            "Finished 0.22\n",
            "Finished 0.24\n",
            "Finished 0.26\n",
            "Finished 0.28\n",
            "Finished 0.3\n",
            "Finished 0.32\n",
            "Finished 0.34\n",
            "Finished 0.36\n",
            "Finished 0.38\n",
            "Finished 0.4\n",
            "Finished 0.42\n",
            "Finished 0.44\n",
            "Finished 0.46\n",
            "Finished 0.48\n",
            "Finished 0.5\n",
            "Finished 0.52\n",
            "Finished 0.54\n",
            "Finished 0.56\n",
            "Finished 0.58\n",
            "Finished 0.6\n",
            "Finished 0.62\n",
            "Finished 0.64\n",
            "Finished 0.66\n",
            "Finished 0.68\n",
            "Finished 0.7\n",
            "Finished 0.72\n",
            "Finished 0.74\n",
            "Finished 0.76\n",
            "Finished 0.78\n",
            "Finished 0.8\n",
            "Finished 0.82\n",
            "Finished 0.84\n",
            "Finished 0.86\n",
            "Finished 0.88\n",
            "Finished 0.9\n",
            "Finished 0.92\n",
            "Finished 0.94\n",
            "Finished 0.96\n",
            "Finished 0.98\n",
            "Finished 1.0\n"
          ]
        }
      ],
      "source": [
        "thresholds = [x / 100 for x in range(0, 100 + 2, 2)] #0, 0.02, 0.04,... 1\n",
        "\n",
        "threshold_f1 = pd.DataFrame(columns=[\"threshold\", \"test_data\", \"cv_data\"])\n",
        "\n",
        "for threshold in thresholds:\n",
        "  test_data_classification = test_data_predicted.apply(lambda row: int(row[\"bot_prob\"] >= threshold), axis=1)\n",
        "  test_data_f1 = f1_score(all_test_data_Y, test_data_classification)\n",
        "\n",
        "  cv_data_classification = cv_predicted.apply(lambda row: int(row[\"bot_prob\"] >= threshold), axis=1)\n",
        "  cv_data_f1 = f1_score(cv_Y, cv_data_classification)\n",
        "\n",
        "  observation = pd.Series({\"threshold\": threshold, \"test_data\": test_data_f1, \"cv_data\": cv_data_f1})\n",
        "  \n",
        "  threshold_f1 = pd.concat([threshold_f1, observation], ignore_index = True)\n",
        "\n",
        "  print(\"Finished\" , threshold)\n",
        "\n",
        "#set index to help with automatic plotting of the index as x axis later\n",
        "threshold_f1 = threshold_f1.set_index(\"threshold\")"
      ]
    },
    {
      "cell_type": "code",
      "execution_count": 50,
      "metadata": {
        "colab": {
          "base_uri": "https://localhost:8080/",
          "height": 279
        },
        "id": "Fmh2et9XNVKg",
        "outputId": "6d703cf0-14d3-4f5b-c767-abdbcf99639e"
      },
      "outputs": [
        {
          "name": "stdout",
          "output_type": "stream",
          "text": [
            "top_model_fig4a.png\n"
          ]
        },
        {
          "data": {
            "image/png": "[encoded data removed]",
            "text/plain": [
              "<Figure size 432x288 with 1 Axes>"
            ]
          },
          "metadata": {
            "needs_background": "light"
          },
          "output_type": "display_data"
        }
      ],
      "source": [
        "graph = sns.kdeplot(data=predicted, common_norm=False, clip=(0,1), bw_adjust=0.2, palette=['r', 'b'])\n",
        "graph.set(xlabel=\"Bot score\")\n",
        "\n",
        "fig = graph.get_figure()\n",
        "fig4a_name = \"top_model_fig4a.png\" if show_top_model else \"fig4a.png\"\n",
        "fig.savefig(os.path.join(results_path, fig4a_name))"
      ]
    },
    {
      "cell_type": "code",
      "execution_count": 53,
      "metadata": {
        "colab": {
          "base_uri": "https://localhost:8080/",
          "height": 283
        },
        "id": "vgl6HuFdOyOj",
        "outputId": "b6f94dc8-fcc3-46c8-dd31-dc8f8717a36a"
      },
      "outputs": [
        {
          "name": "stdout",
          "output_type": "stream",
          "text": [
            "          test_data cv_data         0\n",
            "threshold                            \n",
            "NaN             NaN     NaN  0.000000\n",
            "NaN             NaN     NaN  0.883025\n",
            "NaN             NaN     NaN  0.582295\n",
            "NaN             NaN     NaN  0.020000\n",
            "NaN             NaN     NaN  0.939742\n",
            "...             ...     ...       ...\n",
            "NaN             NaN     NaN  0.003627\n",
            "NaN             NaN     NaN  0.949362\n",
            "NaN             NaN     NaN  1.000000\n",
            "NaN             NaN     NaN  0.000314\n",
            "NaN             NaN     NaN  0.905809\n",
            "\n",
            "[153 rows x 3 columns]\n"
          ]
        },
        {
          "name": "stderr",
          "output_type": "stream",
          "text": [
            "/tmp/ipykernel_2141/3625097265.py:1: UserWarning: \n",
            "The palette list has fewer values (2) than needed (3) and will cycle, which may produce an uninterpretable plot.\n",
            "  graph = sns.lineplot(data=threshold_f1, palette=['b', 'r'])\n"
          ]
        },
        {
          "ename": "TypeError",
          "evalue": "reduction operation 'argmax' not allowed for this dtype",
          "output_type": "error",
          "traceback": [
            "\u001b[0;31m---------------------------------------------------------------------------\u001b[0m",
            "\u001b[0;31mTypeError\u001b[0m                                 Traceback (most recent call last)",
            "\u001b[1;32m/mnt/c/Users/mcse/Desktop/Carleton/Senior/comps/SocialBotDetection/DataAnalysis.ipynb Cell 15\u001b[0m in \u001b[0;36m<cell line: 5>\u001b[0;34m()\u001b[0m\n\u001b[1;32m      <a href='vscode-notebook-cell://wsl%2Bubuntu/mnt/c/Users/mcse/Desktop/Carleton/Senior/comps/SocialBotDetection/DataAnalysis.ipynb#X21sdnNjb2RlLXJlbW90ZQ%3D%3D?line=2'>3</a>\u001b[0m \u001b[39mprint\u001b[39m(threshold_f1)\n\u001b[1;32m      <a href='vscode-notebook-cell://wsl%2Bubuntu/mnt/c/Users/mcse/Desktop/Carleton/Senior/comps/SocialBotDetection/DataAnalysis.ipynb#X21sdnNjb2RlLXJlbW90ZQ%3D%3D?line=3'>4</a>\u001b[0m \u001b[39m#get index of observation with highest f1_score, then retrieve its threshold\u001b[39;00m\n\u001b[0;32m----> <a href='vscode-notebook-cell://wsl%2Bubuntu/mnt/c/Users/mcse/Desktop/Carleton/Senior/comps/SocialBotDetection/DataAnalysis.ipynb#X21sdnNjb2RlLXJlbW90ZQ%3D%3D?line=4'>5</a>\u001b[0m maxes \u001b[39m=\u001b[39m threshold_f1\u001b[39m.\u001b[39;49midxmax(axis\u001b[39m=\u001b[39;49m\u001b[39m0\u001b[39;49m)\n\u001b[1;32m      <a href='vscode-notebook-cell://wsl%2Bubuntu/mnt/c/Users/mcse/Desktop/Carleton/Senior/comps/SocialBotDetection/DataAnalysis.ipynb#X21sdnNjb2RlLXJlbW90ZQ%3D%3D?line=5'>6</a>\u001b[0m max_test_f1_threshold \u001b[39m=\u001b[39m maxes[\u001b[39m\"\u001b[39m\u001b[39mtest_data\u001b[39m\u001b[39m\"\u001b[39m]\n\u001b[1;32m      <a href='vscode-notebook-cell://wsl%2Bubuntu/mnt/c/Users/mcse/Desktop/Carleton/Senior/comps/SocialBotDetection/DataAnalysis.ipynb#X21sdnNjb2RlLXJlbW90ZQ%3D%3D?line=6'>7</a>\u001b[0m max_cv_f1_threshold \u001b[39m=\u001b[39m maxes[\u001b[39m\"\u001b[39m\u001b[39mcv_data\u001b[39m\u001b[39m\"\u001b[39m]\n",
            "File \u001b[0;32m~/.local/lib/python3.8/site-packages/pandas/core/frame.py:11043\u001b[0m, in \u001b[0;36mDataFrame.idxmax\u001b[0;34m(self, axis, skipna, numeric_only)\u001b[0m\n\u001b[1;32m  11040\u001b[0m \u001b[39melse\u001b[39;00m:\n\u001b[1;32m  11041\u001b[0m     data \u001b[39m=\u001b[39m \u001b[39mself\u001b[39m\n\u001b[0;32m> 11043\u001b[0m res \u001b[39m=\u001b[39m data\u001b[39m.\u001b[39;49m_reduce(\n\u001b[1;32m  11044\u001b[0m     nanops\u001b[39m.\u001b[39;49mnanargmax, \u001b[39m\"\u001b[39;49m\u001b[39margmax\u001b[39;49m\u001b[39m\"\u001b[39;49m, axis\u001b[39m=\u001b[39;49maxis, skipna\u001b[39m=\u001b[39;49mskipna, numeric_only\u001b[39m=\u001b[39;49m\u001b[39mFalse\u001b[39;49;00m\n\u001b[1;32m  11045\u001b[0m )\n\u001b[1;32m  11046\u001b[0m indices \u001b[39m=\u001b[39m res\u001b[39m.\u001b[39m_values\n\u001b[1;32m  11048\u001b[0m \u001b[39m# indices will always be np.ndarray since axis is not None and\u001b[39;00m\n\u001b[1;32m  11049\u001b[0m \u001b[39m# values is a 2d array for DataFrame\u001b[39;00m\n\u001b[1;32m  11050\u001b[0m \u001b[39m# error: Item \"int\" of \"Union[int, Any]\" has no attribute \"__iter__\"\u001b[39;00m\n",
            "File \u001b[0;32m~/.local/lib/python3.8/site-packages/pandas/core/frame.py:10878\u001b[0m, in \u001b[0;36mDataFrame._reduce\u001b[0;34m(self, op, name, axis, skipna, numeric_only, filter_type, **kwds)\u001b[0m\n\u001b[1;32m  10874\u001b[0m ignore_failures \u001b[39m=\u001b[39m numeric_only \u001b[39mis\u001b[39;00m \u001b[39mNone\u001b[39;00m\n\u001b[1;32m  10876\u001b[0m \u001b[39m# After possibly _get_data and transposing, we are now in the\u001b[39;00m\n\u001b[1;32m  10877\u001b[0m \u001b[39m#  simple case where we can use BlockManager.reduce\u001b[39;00m\n\u001b[0;32m> 10878\u001b[0m res, _ \u001b[39m=\u001b[39m df\u001b[39m.\u001b[39;49m_mgr\u001b[39m.\u001b[39;49mreduce(blk_func, ignore_failures\u001b[39m=\u001b[39;49mignore_failures)\n\u001b[1;32m  10879\u001b[0m out \u001b[39m=\u001b[39m df\u001b[39m.\u001b[39m_constructor(res)\u001b[39m.\u001b[39miloc[\u001b[39m0\u001b[39m]\n\u001b[1;32m  10880\u001b[0m \u001b[39mif\u001b[39;00m out_dtype \u001b[39mis\u001b[39;00m \u001b[39mnot\u001b[39;00m \u001b[39mNone\u001b[39;00m:\n",
            "File \u001b[0;32m~/.local/lib/python3.8/site-packages/pandas/core/internals/managers.py:1546\u001b[0m, in \u001b[0;36mBlockManager.reduce\u001b[0;34m(self, func, ignore_failures)\u001b[0m\n\u001b[1;32m   1544\u001b[0m res_blocks: \u001b[39mlist\u001b[39m[Block] \u001b[39m=\u001b[39m []\n\u001b[1;32m   1545\u001b[0m \u001b[39mfor\u001b[39;00m blk \u001b[39min\u001b[39;00m \u001b[39mself\u001b[39m\u001b[39m.\u001b[39mblocks:\n\u001b[0;32m-> 1546\u001b[0m     nbs \u001b[39m=\u001b[39m blk\u001b[39m.\u001b[39;49mreduce(func, ignore_failures)\n\u001b[1;32m   1547\u001b[0m     res_blocks\u001b[39m.\u001b[39mextend(nbs)\n\u001b[1;32m   1549\u001b[0m index \u001b[39m=\u001b[39m Index([\u001b[39mNone\u001b[39;00m])  \u001b[39m# placeholder\u001b[39;00m\n",
            "File \u001b[0;32m~/.local/lib/python3.8/site-packages/pandas/core/internals/blocks.py:137\u001b[0m, in \u001b[0;36mmaybe_split.<locals>.newfunc\u001b[0;34m(self, *args, **kwargs)\u001b[0m\n\u001b[1;32m    134\u001b[0m     \u001b[39mreturn\u001b[39;00m meth(\u001b[39mself\u001b[39m, \u001b[39m*\u001b[39margs, \u001b[39m*\u001b[39m\u001b[39m*\u001b[39mkwargs)\n\u001b[1;32m    135\u001b[0m \u001b[39melse\u001b[39;00m:\n\u001b[1;32m    136\u001b[0m     \u001b[39m# Split and operate column-by-column\u001b[39;00m\n\u001b[0;32m--> 137\u001b[0m     \u001b[39mreturn\u001b[39;00m \u001b[39mself\u001b[39;49m\u001b[39m.\u001b[39;49msplit_and_operate(meth, \u001b[39m*\u001b[39;49margs, \u001b[39m*\u001b[39;49m\u001b[39m*\u001b[39;49mkwargs)\n",
            "File \u001b[0;32m~/.local/lib/python3.8/site-packages/pandas/core/internals/blocks.py:433\u001b[0m, in \u001b[0;36mBlock.split_and_operate\u001b[0;34m(self, func, *args, **kwargs)\u001b[0m\n\u001b[1;32m    431\u001b[0m res_blocks \u001b[39m=\u001b[39m []\n\u001b[1;32m    432\u001b[0m \u001b[39mfor\u001b[39;00m nb \u001b[39min\u001b[39;00m \u001b[39mself\u001b[39m\u001b[39m.\u001b[39m_split():\n\u001b[0;32m--> 433\u001b[0m     rbs \u001b[39m=\u001b[39m func(nb, \u001b[39m*\u001b[39;49margs, \u001b[39m*\u001b[39;49m\u001b[39m*\u001b[39;49mkwargs)\n\u001b[1;32m    434\u001b[0m     res_blocks\u001b[39m.\u001b[39mextend(rbs)\n\u001b[1;32m    435\u001b[0m \u001b[39mreturn\u001b[39;00m res_blocks\n",
            "File \u001b[0;32m~/.local/lib/python3.8/site-packages/pandas/core/internals/blocks.py:2033\u001b[0m, in \u001b[0;36mObjectBlock.reduce\u001b[0;34m(self, func, ignore_failures)\u001b[0m\n\u001b[1;32m   2030\u001b[0m \u001b[39massert\u001b[39;00m \u001b[39mself\u001b[39m\u001b[39m.\u001b[39mndim \u001b[39m==\u001b[39m \u001b[39m2\u001b[39m\n\u001b[1;32m   2032\u001b[0m \u001b[39mtry\u001b[39;00m:\n\u001b[0;32m-> 2033\u001b[0m     res \u001b[39m=\u001b[39m func(\u001b[39mself\u001b[39;49m\u001b[39m.\u001b[39;49mvalues)\n\u001b[1;32m   2034\u001b[0m \u001b[39mexcept\u001b[39;00m \u001b[39mTypeError\u001b[39;00m:\n\u001b[1;32m   2035\u001b[0m     \u001b[39mif\u001b[39;00m \u001b[39mnot\u001b[39;00m ignore_failures:\n",
            "File \u001b[0;32m~/.local/lib/python3.8/site-packages/pandas/core/frame.py:10849\u001b[0m, in \u001b[0;36mDataFrame._reduce.<locals>.blk_func\u001b[0;34m(values, axis)\u001b[0m\n\u001b[1;32m  10847\u001b[0m     \u001b[39mreturn\u001b[39;00m values\u001b[39m.\u001b[39m_reduce(name, skipna\u001b[39m=\u001b[39mskipna, \u001b[39m*\u001b[39m\u001b[39m*\u001b[39mkwds)\n\u001b[1;32m  10848\u001b[0m \u001b[39melse\u001b[39;00m:\n\u001b[0;32m> 10849\u001b[0m     \u001b[39mreturn\u001b[39;00m op(values, axis\u001b[39m=\u001b[39;49maxis, skipna\u001b[39m=\u001b[39;49mskipna, \u001b[39m*\u001b[39;49m\u001b[39m*\u001b[39;49mkwds)\n",
            "File \u001b[0;32m~/.local/lib/python3.8/site-packages/pandas/core/nanops.py:88\u001b[0m, in \u001b[0;36mdisallow.__call__.<locals>._f\u001b[0;34m(*args, **kwargs)\u001b[0m\n\u001b[1;32m     86\u001b[0m \u001b[39mif\u001b[39;00m \u001b[39many\u001b[39m(\u001b[39mself\u001b[39m\u001b[39m.\u001b[39mcheck(obj) \u001b[39mfor\u001b[39;00m obj \u001b[39min\u001b[39;00m obj_iter):\n\u001b[1;32m     87\u001b[0m     f_name \u001b[39m=\u001b[39m f\u001b[39m.\u001b[39m\u001b[39m__name__\u001b[39m\u001b[39m.\u001b[39mreplace(\u001b[39m\"\u001b[39m\u001b[39mnan\u001b[39m\u001b[39m\"\u001b[39m, \u001b[39m\"\u001b[39m\u001b[39m\"\u001b[39m)\n\u001b[0;32m---> 88\u001b[0m     \u001b[39mraise\u001b[39;00m \u001b[39mTypeError\u001b[39;00m(\n\u001b[1;32m     89\u001b[0m         \u001b[39mf\u001b[39m\u001b[39m\"\u001b[39m\u001b[39mreduction operation \u001b[39m\u001b[39m'\u001b[39m\u001b[39m{\u001b[39;00mf_name\u001b[39m}\u001b[39;00m\u001b[39m'\u001b[39m\u001b[39m not allowed for this dtype\u001b[39m\u001b[39m\"\u001b[39m\n\u001b[1;32m     90\u001b[0m     )\n\u001b[1;32m     91\u001b[0m \u001b[39mtry\u001b[39;00m:\n\u001b[1;32m     92\u001b[0m     \u001b[39mwith\u001b[39;00m np\u001b[39m.\u001b[39merrstate(invalid\u001b[39m=\u001b[39m\u001b[39m\"\u001b[39m\u001b[39mignore\u001b[39m\u001b[39m\"\u001b[39m):\n",
            "\u001b[0;31mTypeError\u001b[0m: reduction operation 'argmax' not allowed for this dtype"
          ]
        },
        {
          "data": {
            "image/png": "[encoded data removed]",
            "text/plain": [
              "<Figure size 432x288 with 1 Axes>"
            ]
          },
          "metadata": {
            "needs_background": "light"
          },
          "output_type": "display_data"
        }
      ],
      "source": [
        "\n",
        "graph = sns.lineplot(data=threshold_f1, palette=['b', 'r'])\n",
        "graph.set(xlabel=\"Bot score threshold\", ylabel=\"F1 score\", ylim=(0,1))\n",
        "\n",
        "#get index of observation with highest f1_score, then retrieve its threshold\n",
        "maxes = threshold_f1.idxmax(axis=0)\n",
        "max_test_f1_threshold = maxes[\"test_data\"]\n",
        "max_cv_f1_threshold = maxes[\"cv_data\"]\n",
        "\n",
        "\n",
        "graph.axvline(max_test_f1_threshold, linestyle=\"--\", color=\"blue\")\n",
        "graph.axvline(max_cv_f1_threshold, linestyle=\"--\", color=\"red\")\n",
        "\n",
        "fig = graph.get_figure()\n",
        "\n",
        "fig4b_name = \"top_model_fig4b.png\" if show_top_model else \"fig4b.png\"\n",
        "fig.savefig(os.path.join(results_path, fig4b_name))"
      ]
    },
    {
      "cell_type": "code",
      "execution_count": 19,
      "metadata": {
        "colab": {
          "base_uri": "https://localhost:8080/",
          "height": 143
        },
        "id": "fjCwyvQcmXB1",
        "outputId": "f5ddf695-150f-44f2-ee0e-1a60624d8682"
      },
      "outputs": [
        {
          "data": {
            "text/html": [
              "<div>\n",
              "<style scoped>\n",
              "    .dataframe tbody tr th:only-of-type {\n",
              "        vertical-align: middle;\n",
              "    }\n",
              "\n",
              "    .dataframe tbody tr th {\n",
              "        vertical-align: top;\n",
              "    }\n",
              "\n",
              "    .dataframe thead th {\n",
              "        text-align: right;\n",
              "    }\n",
              "</style>\n",
              "<table border=\"1\" class=\"dataframe\">\n",
              "  <thead>\n",
              "    <tr style=\"text-align: right;\">\n",
              "      <th></th>\n",
              "      <th>std_rank</th>\n",
              "      <th>rank</th>\n",
              "      <th>train_size</th>\n",
              "    </tr>\n",
              "  </thead>\n",
              "  <tbody>\n",
              "    <tr>\n",
              "      <th>std_rank</th>\n",
              "      <td>1.000000</td>\n",
              "      <td>0.333072</td>\n",
              "      <td>-0.299544</td>\n",
              "    </tr>\n",
              "    <tr>\n",
              "      <th>rank</th>\n",
              "      <td>0.333072</td>\n",
              "      <td>1.000000</td>\n",
              "      <td>-0.137851</td>\n",
              "    </tr>\n",
              "    <tr>\n",
              "      <th>train_size</th>\n",
              "      <td>-0.299544</td>\n",
              "      <td>-0.137851</td>\n",
              "      <td>1.000000</td>\n",
              "    </tr>\n",
              "  </tbody>\n",
              "</table>\n",
              "</div>"
            ],
            "text/plain": [
              "            std_rank      rank  train_size\n",
              "std_rank    1.000000  0.333072   -0.299544\n",
              "rank        0.333072  1.000000   -0.137851\n",
              "train_size -0.299544 -0.137851    1.000000"
            ]
          },
          "execution_count": 19,
          "metadata": {},
          "output_type": "execute_result"
        }
      ],
      "source": [
        "#load results\n",
        "stds = pd.read_csv(os.path.join(results_path, \"std.csv\"))\n",
        "#make all the strings 7 digits long by adding zeros in front\n",
        "stds[\"name\"] = stds.apply(lambda row: \"M\" + str(int(row[\"name\"])).zfill(7), axis=1)\n",
        "\n",
        "stds[\"std_rank\"] = stds.mean(numeric_only=True, axis=1).rank()\n",
        "\n",
        "stds.sort_values(\"std_rank\")\n",
        "\n",
        "stds_ranks = stds.merge(ranked_results, on=\"name\")\n",
        "\n",
        "\n",
        "train_datasets_size = [len(df) for df in datasets[:7]]\n",
        "\n",
        "def get_train_size(model_name):\n",
        "  name = model_name.strip(\"M\")\n",
        "  size = 0\n",
        "  \n",
        "  for i, c in enumerate(name):\n",
        "    if c == \"1\":\n",
        "      size += train_datasets_size[i]\n",
        "\n",
        "  return size\n",
        "\n",
        "stds_ranks[\"train_size\"] = stds.apply(lambda row: get_train_size(row[\"name\"]), axis=1)\n",
        "\n",
        "#correlation between avg std rank (lower std lower/better rank) to model performance rank\n",
        "\n",
        "stds_ranks[[\"std_rank\", \"rank\", \"train_size\"]].corr(method=\"spearman\")\n"
      ]
    }
  ],
  "metadata": {
    "colab": {
      "collapsed_sections": [],
      "provenance": []
    },
    "kernelspec": {
      "display_name": "Python 3.8.10 64-bit",
      "language": "python",
      "name": "python3"
    },
    "language_info": {
      "codemirror_mode": {
        "name": "ipython",
        "version": 3
      },
      "file_extension": ".py",
      "mimetype": "text/x-python",
      "name": "python",
      "nbconvert_exporter": "python",
      "pygments_lexer": "ipython3",
      "version": "3.8.10"
    },
    "vscode": {
      "interpreter": {
        "hash": "916dbcbb3f70747c44a77c7bcd40155683ae19c65e1c03b4aa3499c5328201f1"
      }
    }
  },
  "nbformat": 4,
  "nbformat_minor": 0
}
