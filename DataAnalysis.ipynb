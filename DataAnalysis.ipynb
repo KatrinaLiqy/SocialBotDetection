{
  "cells": [
    {
      "cell_type": "code",
      "execution_count": 1,
      "metadata": {
        "colab": {
          "base_uri": "https://localhost:8080/"
        },
        "id": "zyM1RWpkF5jB",
        "outputId": "b79cd8f1-6504-430e-bc7b-27b7af9e6e60"
      },
      "outputs": [],
      "source": [
        "import os\n",
        "import pandas as pd\n",
        "\n",
        "#this directory contains the csv with all the models' metrics, and all tables generated in this notebook will go here\n",
        "results_path = \"results/5_final_results/\""
      ]
    },
    {
      "cell_type": "code",
      "execution_count": 2,
      "metadata": {
        "id": "fug-QU1dHK-T"
      },
      "outputs": [],
      "source": [
        "#load results\n",
        "results = pd.read_csv(os.path.join(results_path, \"mean.csv\"))\n",
        "#make all the strings 7 digits long by adding zeros in front\n",
        "results[\"name\"] = results.apply(lambda row: \"M\" + str(int(row[\"name\"])).zfill(7), axis=1)\n",
        "\n",
        "#obtain the relative orders of each column, keeping the column name\n",
        "ranks = results.drop(\"name\", axis=1).rank(ascending=False).add_suffix(\"_rank\")\n",
        "ranked_results = pd.concat([results, ranks], axis=1)\n",
        "\n",
        "#find the product of the ranks of each column\n",
        "metrics_to_eval = [\"botwiki-verified_rank\", \"midterm-18_rank\", \"gilani-17_rank\", \"cresci-rtbust_rank\", \"5-fold_cross-validation_rank\", \"spearman_r_rank\"]\n",
        "rank_product = ranked_results[metrics_to_eval].product(axis=1)\n",
        "\n",
        "\n",
        "#drop the ranks of the test metrics since they aren't useful in the tables\n",
        "ranked_results = ranked_results.drop(labels=ranked_results.columns[7:],axis=1)\n",
        "\n",
        "\n",
        "#get the rank of the products (used for a lookup later)\n",
        "ranked_results[\"rank\"] = rank_product.rank(ascending=True)\n",
        "\n",
        "#once rank is calculated, round all metrics for readability\n",
        "ranked_results = ranked_results.round(decimals=3)"
      ]
    },
    {
      "cell_type": "code",
      "execution_count": 4,
      "metadata": {
        "colab": {
          "base_uri": "https://localhost:8080/",
          "height": 269
        },
        "id": "j2REFmL4bugl",
        "outputId": "b07addf6-0c51-48c4-844d-f20a77e1eca0"
      },
      "outputs": [
        {
          "data": {
            "text/html": [
              "<div>\n",
              "<style scoped>\n",
              "    .dataframe tbody tr th:only-of-type {\n",
              "        vertical-align: middle;\n",
              "    }\n",
              "\n",
              "    .dataframe tbody tr th {\n",
              "        vertical-align: top;\n",
              "    }\n",
              "\n",
              "    .dataframe thead th {\n",
              "        text-align: right;\n",
              "    }\n",
              "</style>\n",
              "<table border=\"1\" class=\"dataframe\">\n",
              "  <thead>\n",
              "    <tr style=\"text-align: right;\">\n",
              "      <th>name</th>\n",
              "      <th>M0101000</th>\n",
              "      <th>M0101010</th>\n",
              "      <th>M1010010</th>\n",
              "      <th>M0100000</th>\n",
              "      <th>M1010110</th>\n",
              "    </tr>\n",
              "  </thead>\n",
              "  <tbody>\n",
              "    <tr>\n",
              "      <th>botwiki-verified</th>\n",
              "      <td>0.987</td>\n",
              "      <td>0.990</td>\n",
              "      <td>0.981</td>\n",
              "      <td>0.963</td>\n",
              "      <td>0.975</td>\n",
              "    </tr>\n",
              "    <tr>\n",
              "      <th>midterm-18</th>\n",
              "      <td>0.983</td>\n",
              "      <td>0.978</td>\n",
              "      <td>0.964</td>\n",
              "      <td>0.979</td>\n",
              "      <td>0.967</td>\n",
              "    </tr>\n",
              "    <tr>\n",
              "      <th>gilani-17</th>\n",
              "      <td>0.650</td>\n",
              "      <td>0.682</td>\n",
              "      <td>0.757</td>\n",
              "      <td>0.656</td>\n",
              "      <td>0.725</td>\n",
              "    </tr>\n",
              "    <tr>\n",
              "      <th>cresci-rtbust</th>\n",
              "      <td>0.764</td>\n",
              "      <td>0.677</td>\n",
              "      <td>0.637</td>\n",
              "      <td>0.761</td>\n",
              "      <td>0.643</td>\n",
              "    </tr>\n",
              "    <tr>\n",
              "      <th>5-fold_cross-validation</th>\n",
              "      <td>0.998</td>\n",
              "      <td>0.997</td>\n",
              "      <td>0.988</td>\n",
              "      <td>0.997</td>\n",
              "      <td>0.987</td>\n",
              "    </tr>\n",
              "    <tr>\n",
              "      <th>spearman_r</th>\n",
              "      <td>0.669</td>\n",
              "      <td>0.626</td>\n",
              "      <td>0.689</td>\n",
              "      <td>0.657</td>\n",
              "      <td>0.710</td>\n",
              "    </tr>\n",
              "    <tr>\n",
              "      <th>rank</th>\n",
              "      <td>1.000</td>\n",
              "      <td>2.000</td>\n",
              "      <td>3.000</td>\n",
              "      <td>4.000</td>\n",
              "      <td>5.000</td>\n",
              "    </tr>\n",
              "  </tbody>\n",
              "</table>\n",
              "</div>"
            ],
            "text/plain": [
              "name                     M0101000  M0101010  M1010010  M0100000  M1010110\n",
              "botwiki-verified            0.987     0.990     0.981     0.963     0.975\n",
              "midterm-18                  0.983     0.978     0.964     0.979     0.967\n",
              "gilani-17                   0.650     0.682     0.757     0.656     0.725\n",
              "cresci-rtbust               0.764     0.677     0.637     0.761     0.643\n",
              "5-fold_cross-validation     0.998     0.997     0.988     0.997     0.987\n",
              "spearman_r                  0.669     0.626     0.689     0.657     0.710\n",
              "rank                        1.000     2.000     3.000     4.000     5.000"
            ]
          },
          "execution_count": 4,
          "metadata": {},
          "output_type": "execute_result"
        }
      ],
      "source": [
        "#get the best n results\n",
        "n = 5\n",
        "top_results = ranked_results.sort_values(\"rank\").head(n).set_index(\"name\").transpose()\n",
        "\n",
        "top_results_file = os.path.join(results_path, \"top_results.csv\")\n",
        "top_results.to_csv(top_results_file)\n",
        "\n",
        "top_models = top_results.columns\n",
        "top_model = top_models[0]\n",
        "\n",
        "top_results"
      ]
    },
    {
      "cell_type": "code",
      "execution_count": 5,
      "metadata": {
        "colab": {
          "base_uri": "https://localhost:8080/",
          "height": 408
        },
        "id": "IvsaV2X_U_ZS",
        "outputId": "dd9f8525-9fc4-4f9c-a167-4b2a3885af89"
      },
      "outputs": [
        {
          "name": "stdout",
          "output_type": "stream",
          "text": [
            "varol: 0.200\n",
            "cresci_17: 0.467\n",
            "pronbots: 0.567\n",
            "celebrity: 0.433\n",
            "vendor: 0.367\n",
            "botometer: 0.767\n",
            "political: 0.433\n",
            "[6, 14, 17, 13, 11, 23, 13]\n"
          ]
        },
        {
          "data": {
            "text/html": [
              "<div>\n",
              "<style scoped>\n",
              "    .dataframe tbody tr th:only-of-type {\n",
              "        vertical-align: middle;\n",
              "    }\n",
              "\n",
              "    .dataframe tbody tr th {\n",
              "        vertical-align: top;\n",
              "    }\n",
              "\n",
              "    .dataframe thead th {\n",
              "        text-align: right;\n",
              "    }\n",
              "</style>\n",
              "<table border=\"1\" class=\"dataframe\">\n",
              "  <thead>\n",
              "    <tr style=\"text-align: right;\">\n",
              "      <th></th>\n",
              "      <th>varol</th>\n",
              "      <th>cresci_17</th>\n",
              "      <th>pronbots</th>\n",
              "      <th>celebrity</th>\n",
              "      <th>vendor</th>\n",
              "      <th>botometer</th>\n",
              "      <th>political</th>\n",
              "    </tr>\n",
              "  </thead>\n",
              "  <tbody>\n",
              "    <tr>\n",
              "      <th>varol</th>\n",
              "      <td>1.00</td>\n",
              "      <td>0.17</td>\n",
              "      <td>0.83</td>\n",
              "      <td>0.00</td>\n",
              "      <td>0.67</td>\n",
              "      <td>0.83</td>\n",
              "      <td>0.33</td>\n",
              "    </tr>\n",
              "    <tr>\n",
              "      <th>cresci_17</th>\n",
              "      <td>0.07</td>\n",
              "      <td>1.00</td>\n",
              "      <td>0.36</td>\n",
              "      <td>0.64</td>\n",
              "      <td>0.14</td>\n",
              "      <td>0.50</td>\n",
              "      <td>0.43</td>\n",
              "    </tr>\n",
              "    <tr>\n",
              "      <th>pronbots</th>\n",
              "      <td>0.29</td>\n",
              "      <td>0.29</td>\n",
              "      <td>1.00</td>\n",
              "      <td>0.47</td>\n",
              "      <td>0.41</td>\n",
              "      <td>0.82</td>\n",
              "      <td>0.47</td>\n",
              "    </tr>\n",
              "    <tr>\n",
              "      <th>celebrity</th>\n",
              "      <td>0.00</td>\n",
              "      <td>0.69</td>\n",
              "      <td>0.62</td>\n",
              "      <td>1.00</td>\n",
              "      <td>0.23</td>\n",
              "      <td>0.69</td>\n",
              "      <td>0.46</td>\n",
              "    </tr>\n",
              "    <tr>\n",
              "      <th>vendor</th>\n",
              "      <td>0.36</td>\n",
              "      <td>0.18</td>\n",
              "      <td>0.64</td>\n",
              "      <td>0.27</td>\n",
              "      <td>1.00</td>\n",
              "      <td>0.91</td>\n",
              "      <td>0.36</td>\n",
              "    </tr>\n",
              "    <tr>\n",
              "      <th>botometer</th>\n",
              "      <td>0.22</td>\n",
              "      <td>0.30</td>\n",
              "      <td>0.61</td>\n",
              "      <td>0.39</td>\n",
              "      <td>0.43</td>\n",
              "      <td>1.00</td>\n",
              "      <td>0.43</td>\n",
              "    </tr>\n",
              "    <tr>\n",
              "      <th>political</th>\n",
              "      <td>0.15</td>\n",
              "      <td>0.46</td>\n",
              "      <td>0.62</td>\n",
              "      <td>0.46</td>\n",
              "      <td>0.31</td>\n",
              "      <td>0.77</td>\n",
              "      <td>1.00</td>\n",
              "    </tr>\n",
              "  </tbody>\n",
              "</table>\n",
              "</div>"
            ],
            "text/plain": [
              "           varol  cresci_17  pronbots  celebrity  vendor  botometer  political\n",
              "varol       1.00       0.17      0.83       0.00    0.67       0.83       0.33\n",
              "cresci_17   0.07       1.00      0.36       0.64    0.14       0.50       0.43\n",
              "pronbots    0.29       0.29      1.00       0.47    0.41       0.82       0.47\n",
              "celebrity   0.00       0.69      0.62       1.00    0.23       0.69       0.46\n",
              "vendor      0.36       0.18      0.64       0.27    1.00       0.91       0.36\n",
              "botometer   0.22       0.30      0.61       0.39    0.43       1.00       0.43\n",
              "political   0.15       0.46      0.62       0.46    0.31       0.77       1.00"
            ]
          },
          "execution_count": 5,
          "metadata": {},
          "output_type": "execute_result"
        }
      ],
      "source": [
        "n = 30\n",
        "top_result_names = ranked_results.sort_values(\"rank\").head(n)[\"name\"]\n",
        "top_result_names\n",
        "\n",
        "dataset_list = [\"varol\", \"cresci_17\", \"pronbots\", \"celebrity\", \"vendor\", \"botometer\", \"political\"]\n",
        "dataset_count = [0] * len(dataset_list)\n",
        "\n",
        "#given a dataset appearing in a row, what is the prob it appeared alongside the given column\n",
        "conditional_prob = pd.DataFrame(0, index=dataset_list, columns=dataset_list)\n",
        "\n",
        "#get counts of dataset appearences in top 20 ranked, and their co_occurences\n",
        "for name in top_result_names:\n",
        "  indices = [i for i, char in enumerate(name.strip(\"M\")) if char == \"1\"]\n",
        "  for i in indices:\n",
        "    dataset_count[i] += 1\n",
        "    for j in indices:\n",
        "      #indexing is [col][row]\n",
        "      conditional_prob[dataset_list[i]][dataset_list[j]] += 1\n",
        "\n",
        "for i, dataset in enumerate(dataset_list):\n",
        "  print(f\"{dataset}: {dataset_count[i] / n:.3f}\")    \n",
        "\n",
        "print(dataset_count)\n",
        "conditional_table = conditional_prob.divide(dataset_count, axis='index').round(decimals=2)\n",
        "conditional_table"
      ]
    },
    {
      "cell_type": "code",
      "execution_count": 9,
      "metadata": {
        "colab": {
          "base_uri": "https://localhost:8080/",
          "height": 328
        },
        "id": "9M64VpLqmMnl",
        "outputId": "64178f78-9bb5-40b9-a485-64a22a618df7"
      },
      "outputs": [
        {
          "data": {
            "image/png": "[encoded data removed]",
            "text/plain": [
              "<Figure size 432x288 with 2 Axes>"
            ]
          },
          "metadata": {
            "needs_background": "light"
          },
          "output_type": "display_data"
        }
      ],
      "source": [
        "import seaborn as sns\n",
        "\n",
        "graph = sns.heatmap(data=conditional_table, annot=True, cmap=\"Spectral\")"
      ]
    },
    {
      "cell_type": "code",
      "execution_count": 12,
      "metadata": {
        "colab": {
          "base_uri": "https://localhost:8080/",
          "height": 373
        },
        "id": "vfJP1_vHJ8Yz",
        "outputId": "10c9cd91-952f-4f7c-bb32-43c707393586"
      },
      "outputs": [
        {
          "name": "stderr",
          "output_type": "stream",
          "text": [
            "/tmp/ipykernel_2141/3850043466.py:10: SettingWithCopyWarning: \n",
            "A value is trying to be set on a copy of a slice from a DataFrame.\n",
            "Try using .loc[row_indexer,col_indexer] = value instead\n",
            "\n",
            "See the caveats in the documentation: https://pandas.pydata.org/pandas-docs/stable/user_guide/indexing.html#returning-a-view-versus-a-copy\n",
            "  table4['name'] = table4.apply(lambda row: model_name_conversion[row['name']], axis=1)\n"
          ]
        },
        {
          "data": {
            "text/html": [
              "<div>\n",
              "<style scoped>\n",
              "    .dataframe tbody tr th:only-of-type {\n",
              "        vertical-align: middle;\n",
              "    }\n",
              "\n",
              "    .dataframe tbody tr th {\n",
              "        vertical-align: top;\n",
              "    }\n",
              "\n",
              "    .dataframe thead th {\n",
              "        text-align: right;\n",
              "    }\n",
              "</style>\n",
              "<table border=\"1\" class=\"dataframe\">\n",
              "  <thead>\n",
              "    <tr style=\"text-align: right;\">\n",
              "      <th>name</th>\n",
              "      <th>M196</th>\n",
              "      <th>M125</th>\n",
              "      <th>M191</th>\n",
              "      <th>M246_revised</th>\n",
              "    </tr>\n",
              "  </thead>\n",
              "  <tbody>\n",
              "    <tr>\n",
              "      <th>botwiki-verified</th>\n",
              "      <td>0.976</td>\n",
              "      <td>0.977</td>\n",
              "      <td>0.976</td>\n",
              "      <td>0.981</td>\n",
              "    </tr>\n",
              "    <tr>\n",
              "      <th>midterm-18</th>\n",
              "      <td>0.954</td>\n",
              "      <td>0.956</td>\n",
              "      <td>0.963</td>\n",
              "      <td>0.966</td>\n",
              "    </tr>\n",
              "    <tr>\n",
              "      <th>gilani-17</th>\n",
              "      <td>0.688</td>\n",
              "      <td>0.680</td>\n",
              "      <td>0.682</td>\n",
              "      <td>0.675</td>\n",
              "    </tr>\n",
              "    <tr>\n",
              "      <th>cresci-rtbust</th>\n",
              "      <td>0.618</td>\n",
              "      <td>0.647</td>\n",
              "      <td>0.646</td>\n",
              "      <td>0.635</td>\n",
              "    </tr>\n",
              "    <tr>\n",
              "      <th>5-fold_cross-validation</th>\n",
              "      <td>0.991</td>\n",
              "      <td>0.990</td>\n",
              "      <td>0.988</td>\n",
              "      <td>0.994</td>\n",
              "    </tr>\n",
              "    <tr>\n",
              "      <th>spearman_r</th>\n",
              "      <td>0.486</td>\n",
              "      <td>0.478</td>\n",
              "      <td>0.498</td>\n",
              "      <td>0.546</td>\n",
              "    </tr>\n",
              "    <tr>\n",
              "      <th>rank</th>\n",
              "      <td>90.000</td>\n",
              "      <td>91.000</td>\n",
              "      <td>84.000</td>\n",
              "      <td>61.000</td>\n",
              "    </tr>\n",
              "  </tbody>\n",
              "</table>\n",
              "</div>"
            ],
            "text/plain": [
              "name                       M196    M125    M191  M246_revised\n",
              "botwiki-verified          0.976   0.977   0.976         0.981\n",
              "midterm-18                0.954   0.956   0.963         0.966\n",
              "gilani-17                 0.688   0.680   0.682         0.675\n",
              "cresci-rtbust             0.618   0.647   0.646         0.635\n",
              "5-fold_cross-validation   0.991   0.990   0.988         0.994\n",
              "spearman_r                0.486   0.478   0.498         0.546\n",
              "rank                     90.000  91.000  84.000        61.000"
            ]
          },
          "execution_count": 12,
          "metadata": {},
          "output_type": "execute_result"
        }
      ],
      "source": [
        "#get the ranks of the models in original table 4 for comparison\n",
        "lookup_names = [\"M1101011\", \"M1101010\", \"M1101110\", \"M1111111\"]\n",
        "table4 = ranked_results.loc[ranked_results['name'].isin(lookup_names)]\n",
        "\n",
        "#get the names used in the paper\n",
        "model_name_conversion = {\"M1101011\": \"M196\",\n",
        "                         \"M1101010\": \"M125\",\n",
        "                         \"M1101110\": \"M191\",\n",
        "                         \"M1111111\": \"M246_revised\"}\n",
        "table4['name'] = table4.apply(lambda row: model_name_conversion[row['name']], axis=1)\n",
        "\n",
        "#reorder to have models in same order as paper\n",
        "table4 = table4.set_index(\"name\").transpose()[[\"M196\", \"M125\", \"M191\", \"M246_revised\"]]\n",
        "\n",
        "table4_file = os.path.join(results_path, \"table4.csv\")\n",
        "table4.to_csv(table4_file)\n",
        "table4"
      ]
    },
    {
      "cell_type": "code",
      "execution_count": 13,
      "metadata": {
        "id": "QORiaHa9pAbi"
      },
      "outputs": [],
      "source": [
        "# Seven training datasets\n",
        "dataset_path = \"data_csv/final\"\n",
        "\n",
        "varol = pd.read_csv(dataset_path + '/varol-17.csv')\n",
        "cresci_17 = pd.read_csv(dataset_path + '/cresci-17.csv')\n",
        "pronbots = pd.read_csv(dataset_path + '/pronbots-2019.csv')\n",
        "celebrity = pd.read_csv(dataset_path + '/celebrity-2019.csv')\n",
        "vendor = pd.read_csv(dataset_path + '/vendor-purchased-2019.csv')\n",
        "botometer = pd.read_csv(dataset_path + '/botometer-feedback-2019.csv')\n",
        "political = pd.read_csv(dataset_path + '/political-bots-2019.csv')\n",
        "\n",
        "# Testing datasets\n",
        "botwiki = pd.read_csv(dataset_path + '/botwiki-verified.csv')\n",
        "midterm = pd.read_csv(dataset_path + '/midterm-2018.csv')\n",
        "gilani = pd.read_csv(dataset_path + '/gilani-2017.csv')\n",
        "c_rtbust = pd.read_csv(dataset_path + '/cresci-rtbust-2019.csv')"
      ]
    },
    {
      "cell_type": "code",
      "execution_count": 20,
      "metadata": {
        "colab": {
          "base_uri": "https://localhost:8080/"
        },
        "id": "482d_Jgvr8mP",
        "outputId": "418e39c8-f373-4338-f3b6-e7c7cdfcd64c"
      },
      "outputs": [
        {
          "data": {
            "text/plain": [
              "[['varol-icwsm', 665, 1441],\n",
              " ['cresci-17', 6543, 3474],\n",
              " ['pronbots', 17882, 0],\n",
              " ['celebrity', 0, 5918],\n",
              " ['vendor-purchased', 1087, 0],\n",
              " ['botometer-feedback', 138, 380],\n",
              " ['political-bots', 62, 0],\n",
              " ['botwiki-verified', 698, 1987],\n",
              " ['midterm-18', 42446, 8092],\n",
              " ['gilani-17', 1090, 1394],\n",
              " ['cresci-rtbust', 353, 340]]"
            ]
          },
          "execution_count": 20,
          "metadata": {},
          "output_type": "execute_result"
        }
      ],
      "source": [
        "#get the breakdown of how many observations are in each class for all datasets\n",
        "\n",
        "datasets = [varol, cresci_17, pronbots, celebrity, vendor, botometer, political, botwiki, midterm, gilani, c_rtbust]\n",
        "dataset_names = [\"varol-icwsm\", \"cresci-17\", \"pronbots\", \"celebrity\", \"vendor-purchased\", \"botometer-feedback\", \"political-bots\", \"botwiki-verified\", \"midterm-18\", \"gilani-17\", \"cresci-rtbust\"]\n",
        "\n",
        "dataset_analysis = []\n",
        "for i, dataset in enumerate(datasets):\n",
        "  name = dataset_names[i]\n",
        "  bots = sum(dataset['is_bot'] == 1)\n",
        "  humans = sum(dataset['is_bot'] == 0)\n",
        "  dataset_analysis.append([name, bots, humans])\n",
        "\n",
        "dataset_analysis"
      ]
    },
    {
      "cell_type": "code",
      "execution_count": 14,
      "metadata": {
        "id": "e6Mv05nYGIFO"
      },
      "outputs": [],
      "source": [
        "import joblib\n",
        "import numpy as np\n",
        "import seaborn as sns\n",
        "import csv\n",
        "import matplotlib.pyplot as plt\n",
        "from sklearn.metrics import f1_score\n",
        "from sklearn.model_selection import cross_val_predict, StratifiedShuffleSplit, ShuffleSplit, StratifiedKFold\n",
        "from sklearn.ensemble import RandomForestClassifier"
      ]
    },
    {
      "cell_type": "code",
      "execution_count": 15,
      "metadata": {
        "id": "akz5d5dNJItY"
      },
      "outputs": [],
      "source": [
        "all_test_data = pd.concat([botwiki, gilani, midterm, c_rtbust], ignore_index=True)\n",
        "m196_cv_data = pd.concat([varol, cresci_17, celebrity, botometer, political], ignore_index=True)\n",
        "\n",
        "all_test_data_X = all_test_data.drop(\"is_bot\", axis=1)\n",
        "all_test_data_Y = all_test_data[\"is_bot\"]\n",
        "\n",
        "m196_cv_data_X = m196_cv_data.drop(\"is_bot\", axis=1)\n",
        "m196_cv_data_Y = m196_cv_data[\"is_bot\"]"
      ]
    },
    {
      "cell_type": "code",
      "execution_count": 16,
      "metadata": {
        "colab": {
          "base_uri": "https://localhost:8080/"
        },
        "id": "RhqNCyM9RWuF",
        "outputId": "acd8bdaa-cb49-4a85-909d-25b1f9b406aa"
      },
      "outputs": [
        {
          "name": "stderr",
          "output_type": "stream",
          "text": [
            "/tmp/ipykernel_2141/1885325035.py:25: FutureWarning: The frame.append method is deprecated and will be removed from pandas in a future version. Use pandas.concat instead.\n",
            "  cv_predicted = cv_predicted.append(predicted, ignore_index=True)\n",
            "/tmp/ipykernel_2141/1885325035.py:25: FutureWarning: The frame.append method is deprecated and will be removed from pandas in a future version. Use pandas.concat instead.\n",
            "  cv_predicted = cv_predicted.append(predicted, ignore_index=True)\n",
            "/tmp/ipykernel_2141/1885325035.py:25: FutureWarning: The frame.append method is deprecated and will be removed from pandas in a future version. Use pandas.concat instead.\n",
            "  cv_predicted = cv_predicted.append(predicted, ignore_index=True)\n",
            "/tmp/ipykernel_2141/1885325035.py:25: FutureWarning: The frame.append method is deprecated and will be removed from pandas in a future version. Use pandas.concat instead.\n",
            "  cv_predicted = cv_predicted.append(predicted, ignore_index=True)\n"
          ]
        },
        {
          "name": "stdout",
          "output_type": "stream",
          "text": [
            "       bot_prob\n",
            "0          0.02\n",
            "1          0.06\n",
            "2          0.04\n",
            "3          0.01\n",
            "4          0.03\n",
            "...         ...\n",
            "18620      0.00\n",
            "18621      1.00\n",
            "18622      0.00\n",
            "18623      0.01\n",
            "18624      0.44\n",
            "\n",
            "[18625 rows x 1 columns]\n",
            "[0. 0. 0. ... 0. 0. 0.]\n"
          ]
        },
        {
          "name": "stderr",
          "output_type": "stream",
          "text": [
            "/tmp/ipykernel_2141/1885325035.py:25: FutureWarning: The frame.append method is deprecated and will be removed from pandas in a future version. Use pandas.concat instead.\n",
            "  cv_predicted = cv_predicted.append(predicted, ignore_index=True)\n"
          ]
        }
      ],
      "source": [
        "#5 fold cross validation\n",
        "\n",
        "clf = RandomForestClassifier(n_estimators=100, class_weight=\"balanced\", random_state=0)\n",
        "\n",
        "ss = StratifiedShuffleSplit(n_splits=5, test_size=0.2, random_state=0)\n",
        "splits = ss.split(X=m196_cv_data_X, y=m196_cv_data_Y)\n",
        "\n",
        "cv_predicted = pd.DataFrame(columns=[\"bot_prob\"])\n",
        "cv_Y = np.array([])\n",
        "\n",
        "for split in splits:\n",
        "  train, test = split\n",
        "  \n",
        "  train_X = m196_cv_data_X.iloc[train]\n",
        "  train_Y = m196_cv_data_Y.iloc[train]\n",
        "  test_X = m196_cv_data_X.iloc[test]\n",
        "  test_Y = m196_cv_data_Y.iloc[test]\n",
        "  clf.fit(train_X, train_Y)\n",
        "\n",
        "\n",
        "  cv_bot_scores =  pd.DataFrame(clf.predict_proba(test_X), columns = [\"human_prob\", \"bot_prob\"])\n",
        "  predicted = cv_bot_scores.drop(\"human_prob\", axis=1)\n",
        "\n",
        "  #the predicted values are dataframes, the cv_Y values are numpy arrays\n",
        "  cv_predicted = cv_predicted.append(predicted, ignore_index=True)\n",
        "  cv_Y = np.concatenate((cv_Y, test_Y))\n",
        "\n",
        "print(cv_predicted)\n",
        "print(cv_Y)"
      ]
    },
    {
      "cell_type": "code",
      "execution_count": null,
      "metadata": {
        "id": "_3d0FAtYqDmq"
      },
      "outputs": [],
      "source": [
        "m196 = joblib.load(os.path.join(GOOGLE_DRIVE_PATH, \"models/base_shuffle_CV/1101011.joblib\"))\n",
        "\n",
        "top_model_stripped = top_model.strip(\"M\")\n",
        "best_model = joblib.load(os.path.join(GOOGLE_DRIVE_PATH, f\"models/base_shuffle_CV/{top_model_stripped}.joblib\"))\n",
        "\n",
        "\n",
        "test_data_bot_scores =  pd.DataFrame(m196.predict_proba(all_test_data_X), columns = [\"human_prob\", \"bot_prob\"])\n",
        "test_data_predicted = test_data_bot_scores.drop(\"human_prob\", axis=1)\n",
        "\n",
        "#this is used for the bot scores distribution plot\n",
        "predicted = pd.DataFrame()\n",
        "predicted[\"cv_bot_scores\"] = cv_predicted\n",
        "predicted[\"test_data_scores\"] = test_data_predicted"
      ]
    },
    {
      "cell_type": "code",
      "execution_count": null,
      "metadata": {
        "colab": {
          "base_uri": "https://localhost:8080/"
        },
        "id": "8E4l4G9RENrL",
        "outputId": "0d7331be-6297-4b30-aa78-46607e2c33f7"
      },
      "outputs": [
        {
          "name": "stdout",
          "output_type": "stream",
          "text": [
            "Finished 0.0\n",
            "Finished 0.02\n",
            "Finished 0.04\n",
            "Finished 0.06\n",
            "Finished 0.08\n",
            "Finished 0.1\n",
            "Finished 0.12\n",
            "Finished 0.14\n",
            "Finished 0.16\n",
            "Finished 0.18\n",
            "Finished 0.2\n",
            "Finished 0.22\n",
            "Finished 0.24\n",
            "Finished 0.26\n",
            "Finished 0.28\n",
            "Finished 0.3\n",
            "Finished 0.32\n",
            "Finished 0.34\n",
            "Finished 0.36\n",
            "Finished 0.38\n",
            "Finished 0.4\n",
            "Finished 0.42\n",
            "Finished 0.44\n",
            "Finished 0.46\n",
            "Finished 0.48\n",
            "Finished 0.5\n",
            "Finished 0.52\n",
            "Finished 0.54\n",
            "Finished 0.56\n",
            "Finished 0.58\n",
            "Finished 0.6\n",
            "Finished 0.62\n",
            "Finished 0.64\n",
            "Finished 0.66\n",
            "Finished 0.68\n",
            "Finished 0.7\n",
            "Finished 0.72\n",
            "Finished 0.74\n",
            "Finished 0.76\n",
            "Finished 0.78\n",
            "Finished 0.8\n",
            "Finished 0.82\n",
            "Finished 0.84\n",
            "Finished 0.86\n",
            "Finished 0.88\n",
            "Finished 0.9\n",
            "Finished 0.92\n",
            "Finished 0.94\n",
            "Finished 0.96\n",
            "Finished 0.98\n",
            "Finished 1.0\n"
          ]
        }
      ],
      "source": [
        "thresholds = [x / 100 for x in range(0, 100 + 2, 2)] #0, 0.02, 0.04,... 1\n",
        "\n",
        "threshold_f1 = pd.DataFrame(columns=[\"threshold\", \"test_data_f1\", \"cv_data_f1\"])\n",
        "\n",
        "for threshold in thresholds:\n",
        "  test_data_classification = test_data_predicted.apply(lambda row: int(row[\"bot_prob\"] >= threshold), axis=1)\n",
        "  test_data_f1 = f1_score(all_test_data_Y, test_data_classification)\n",
        "\n",
        "  cv_data_classification = cv_predicted.apply(lambda row: int(row[\"bot_prob\"] >= threshold), axis=1)\n",
        "  cv_data_f1 = f1_score(cv_Y, cv_data_classification)\n",
        "\n",
        "  observation = {\"threshold\": threshold, \"test_data_f1\": test_data_f1, \"cv_data_f1\": cv_data_f1}\n",
        "  \n",
        "  threshold_f1 = threshold_f1.append(observation, ignore_index = True)\n",
        "\n",
        "  print(\"Finished\" , threshold)\n",
        "\n",
        "#set index to help with automatic plotting of the index as x axis later\n",
        "threshold_f1 = threshold_f1.set_index(\"threshold\")"
      ]
    },
    {
      "cell_type": "code",
      "execution_count": null,
      "metadata": {
        "colab": {
          "base_uri": "https://localhost:8080/",
          "height": 279
        },
        "id": "Fmh2et9XNVKg",
        "outputId": "6d703cf0-14d3-4f5b-c767-abdbcf99639e"
      },
      "outputs": [
        {
          "data": {
            "image/png": "[encoded data removed]",
            "text/plain": [
              "<Figure size 432x288 with 1 Axes>"
            ]
          },
          "metadata": {
            "needs_background": "light"
          },
          "output_type": "display_data"
        }
      ],
      "source": [
        "graph = sns.kdeplot(data=predicted, common_norm=False, clip=(0,1), bw_adjust=0.2, palette=['r', 'b'])\n",
        "graph.set(xlabel=\"Bot score\")\n",
        "\n",
        "fig = graph.get_figure()\n",
        "fig.savefig(os.path.join(results_path, \"fig4a.png\"))"
      ]
    },
    {
      "cell_type": "code",
      "execution_count": null,
      "metadata": {
        "colab": {
          "base_uri": "https://localhost:8080/",
          "height": 283
        },
        "id": "vgl6HuFdOyOj",
        "outputId": "b6f94dc8-fcc3-46c8-dd31-dc8f8717a36a"
      },
      "outputs": [
        {
          "data": {
            "image/png": "[encoded data removed]",
            "text/plain": [
              "<Figure size 432x288 with 1 Axes>"
            ]
          },
          "metadata": {
            "needs_background": "light"
          },
          "output_type": "display_data"
        }
      ],
      "source": [
        "\n",
        "graph = sns.lineplot(data=threshold_f1, palette=['b', 'r'])\n",
        "graph.set(xlabel=\"Bot score threshold\", ylabel=\"F1 score\", ylim=(0,1))\n",
        "\n",
        "#get index of observation with highest f1_score, then retrieve its threshold\n",
        "maxes = threshold_f1.idxmax(axis=0)\n",
        "max_test_f1_threshold = maxes[\"test_data_f1\"]\n",
        "max_cv_f1_threshold = maxes[\"cv_data_f1\"]\n",
        "\n",
        "\n",
        "graph.axvline(max_test_f1_threshold, linestyle=\"--\", color=\"blue\")\n",
        "graph.axvline(max_cv_f1_threshold, linestyle=\"--\", color=\"red\")\n",
        "\n",
        "fig = graph.get_figure()\n",
        "fig.savefig(os.path.join(results_path, \"figure4b.png\"))"
      ]
    },
    {
      "cell_type": "code",
      "execution_count": 27,
      "metadata": {
        "colab": {
          "base_uri": "https://localhost:8080/",
          "height": 143
        },
        "id": "fjCwyvQcmXB1",
        "outputId": "f5ddf695-150f-44f2-ee0e-1a60624d8682"
      },
      "outputs": [
        {
          "data": {
            "text/html": [
              "\n",
              "  <div id=\"df-488d2462-40a5-44d9-b160-d0815d508b83\">\n",
              "    <div class=\"colab-df-container\">\n",
              "      <div>\n",
              "<style scoped>\n",
              "    .dataframe tbody tr th:only-of-type {\n",
              "        vertical-align: middle;\n",
              "    }\n",
              "\n",
              "    .dataframe tbody tr th {\n",
              "        vertical-align: top;\n",
              "    }\n",
              "\n",
              "    .dataframe thead th {\n",
              "        text-align: right;\n",
              "    }\n",
              "</style>\n",
              "<table border=\"1\" class=\"dataframe\">\n",
              "  <thead>\n",
              "    <tr style=\"text-align: right;\">\n",
              "      <th></th>\n",
              "      <th>std_rank</th>\n",
              "      <th>rank</th>\n",
              "      <th>train_size</th>\n",
              "    </tr>\n",
              "  </thead>\n",
              "  <tbody>\n",
              "    <tr>\n",
              "      <th>std_rank</th>\n",
              "      <td>1.000000</td>\n",
              "      <td>0.333072</td>\n",
              "      <td>-0.299544</td>\n",
              "    </tr>\n",
              "    <tr>\n",
              "      <th>rank</th>\n",
              "      <td>0.333072</td>\n",
              "      <td>1.000000</td>\n",
              "      <td>-0.137851</td>\n",
              "    </tr>\n",
              "    <tr>\n",
              "      <th>train_size</th>\n",
              "      <td>-0.299544</td>\n",
              "      <td>-0.137851</td>\n",
              "      <td>1.000000</td>\n",
              "    </tr>\n",
              "  </tbody>\n",
              "</table>\n",
              "</div>\n",
              "      <button class=\"colab-df-convert\" onclick=\"convertToInteractive('df-488d2462-40a5-44d9-b160-d0815d508b83')\"\n",
              "              title=\"Convert this dataframe to an interactive table.\"\n",
              "              style=\"display:none;\">\n",
              "        \n",
              "  <svg xmlns=\"http://www.w3.org/2000/svg\" height=\"24px\"viewBox=\"0 0 24 24\"\n",
              "       width=\"24px\">\n",
              "    <path d=\"M0 0h24v24H0V0z\" fill=\"none\"/>\n",
              "    <path d=\"M18.56 5.44l.94 2.06.94-2.06 2.06-.94-2.06-.94-.94-2.06-.94 2.06-2.06.94zm-11 1L8.5 8.5l.94-2.06 2.06-.94-2.06-.94L8.5 2.5l-.94 2.06-2.06.94zm10 10l.94 2.06.94-2.06 2.06-.94-2.06-.94-.94-2.06-.94 2.06-2.06.94z\"/><path d=\"M17.41 7.96l-1.37-1.37c-.4-.4-.92-.59-1.43-.59-.52 0-1.04.2-1.43.59L10.3 9.45l-7.72 7.72c-.78.78-.78 2.05 0 2.83L4 21.41c.39.39.9.59 1.41.59.51 0 1.02-.2 1.41-.59l7.78-7.78 2.81-2.81c.8-.78.8-2.07 0-2.86zM5.41 20L4 18.59l7.72-7.72 1.47 1.35L5.41 20z\"/>\n",
              "  </svg>\n",
              "      </button>\n",
              "      \n",
              "  <style>\n",
              "    .colab-df-container {\n",
              "      display:flex;\n",
              "      flex-wrap:wrap;\n",
              "      gap: 12px;\n",
              "    }\n",
              "\n",
              "    .colab-df-convert {\n",
              "      background-color: #E8F0FE;\n",
              "      border: none;\n",
              "      border-radius: 50%;\n",
              "      cursor: pointer;\n",
              "      display: none;\n",
              "      fill: #1967D2;\n",
              "      height: 32px;\n",
              "      padding: 0 0 0 0;\n",
              "      width: 32px;\n",
              "    }\n",
              "\n",
              "    .colab-df-convert:hover {\n",
              "      background-color: #E2EBFA;\n",
              "      box-shadow: 0px 1px 2px rgba(60, 64, 67, 0.3), 0px 1px 3px 1px rgba(60, 64, 67, 0.15);\n",
              "      fill: #174EA6;\n",
              "    }\n",
              "\n",
              "    [theme=dark] .colab-df-convert {\n",
              "      background-color: #3B4455;\n",
              "      fill: #D2E3FC;\n",
              "    }\n",
              "\n",
              "    [theme=dark] .colab-df-convert:hover {\n",
              "      background-color: #434B5C;\n",
              "      box-shadow: 0px 1px 3px 1px rgba(0, 0, 0, 0.15);\n",
              "      filter: drop-shadow(0px 1px 2px rgba(0, 0, 0, 0.3));\n",
              "      fill: #FFFFFF;\n",
              "    }\n",
              "  </style>\n",
              "\n",
              "      <script>\n",
              "        const buttonEl =\n",
              "          document.querySelector('#df-488d2462-40a5-44d9-b160-d0815d508b83 button.colab-df-convert');\n",
              "        buttonEl.style.display =\n",
              "          google.colab.kernel.accessAllowed ? 'block' : 'none';\n",
              "\n",
              "        async function convertToInteractive(key) {\n",
              "          const element = document.querySelector('#df-488d2462-40a5-44d9-b160-d0815d508b83');\n",
              "          const dataTable =\n",
              "            await google.colab.kernel.invokeFunction('convertToInteractive',\n",
              "                                                     [key], {});\n",
              "          if (!dataTable) return;\n",
              "\n",
              "          const docLinkHtml = 'Like what you see? Visit the ' +\n",
              "            '<a target=\"_blank\" href=https://colab.research.google.com/notebooks/data_table.ipynb>data table notebook</a>'\n",
              "            + ' to learn more about interactive tables.';\n",
              "          element.innerHTML = '';\n",
              "          dataTable['output_type'] = 'display_data';\n",
              "          await google.colab.output.renderOutput(dataTable, element);\n",
              "          const docLink = document.createElement('div');\n",
              "          docLink.innerHTML = docLinkHtml;\n",
              "          element.appendChild(docLink);\n",
              "        }\n",
              "      </script>\n",
              "    </div>\n",
              "  </div>\n",
              "  "
            ],
            "text/plain": [
              "            std_rank      rank  train_size\n",
              "std_rank    1.000000  0.333072   -0.299544\n",
              "rank        0.333072  1.000000   -0.137851\n",
              "train_size -0.299544 -0.137851    1.000000"
            ]
          },
          "execution_count": 27,
          "metadata": {},
          "output_type": "execute_result"
        }
      ],
      "source": [
        "#load results\n",
        "stds = pd.read_csv(os.path.join(results_path, \"std.csv\"))\n",
        "#make all the strings 7 digits long by adding zeros in front\n",
        "stds[\"name\"] = stds.apply(lambda row: \"M\" + str(int(row[\"name\"])).zfill(7), axis=1)\n",
        "\n",
        "stds[\"std_rank\"] = stds.mean(numeric_only=True, axis=1).rank()\n",
        "\n",
        "stds.sort_values(\"std_rank\")\n",
        "\n",
        "stds_ranks = stds.merge(ranked_results, on=\"name\")\n",
        "\n",
        "\n",
        "train_datasets_size = [len(df) for df in datasets[:7]]\n",
        "\n",
        "def get_train_size(model_name):\n",
        "  name = model_name.strip(\"M\")\n",
        "  size = 0\n",
        "  \n",
        "  for i, c in enumerate(name):\n",
        "    if c == \"1\":\n",
        "      size += train_datasets_size[i]\n",
        "\n",
        "  return size\n",
        "\n",
        "stds_ranks[\"train_size\"] = stds.apply(lambda row: get_train_size(row[\"name\"]), axis=1)\n",
        "\n",
        "#correlation between avg std rank (lower std lower/better rank) to model performance rank\n",
        "\n",
        "stds_ranks[[\"std_rank\", \"rank\", \"train_size\"]].corr(method=\"spearman\")\n"
      ]
    }
  ],
  "metadata": {
    "colab": {
      "collapsed_sections": [],
      "provenance": []
    },
    "kernelspec": {
      "display_name": "Python 3.8.10 64-bit",
      "language": "python",
      "name": "python3"
    },
    "language_info": {
      "codemirror_mode": {
        "name": "ipython",
        "version": 3
      },
      "file_extension": ".py",
      "mimetype": "text/x-python",
      "name": "python",
      "nbconvert_exporter": "python",
      "pygments_lexer": "ipython3",
      "version": "3.8.10"
    },
    "vscode": {
      "interpreter": {
        "hash": "916dbcbb3f70747c44a77c7bcd40155683ae19c65e1c03b4aa3499c5328201f1"
      }
    }
  },
  "nbformat": 4,
  "nbformat_minor": 0
}
