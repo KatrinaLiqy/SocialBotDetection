{
 "cells": [
  {
   "cell_type": "markdown",
   "metadata": {},
   "source": [
    "This notebook makes calls to the Twitter API with the package Tweepy to obtain certain features for each account in question."
   ]
  },
  {
   "cell_type": "code",
   "execution_count": 1,
   "metadata": {},
   "outputs": [],
   "source": [
    "import config\n",
    "import os\n",
    "#must be Tweepy version 4 or later (this was tested on 4.10)\n",
    "import tweepy\n",
    "from tweepy.errors import Forbidden, NotFound\n",
    "import csv\n",
    "import pandas as pd\n",
    "\n",
    "consumer_key = config.CONSUMER_KEY\n",
    "consumer_secret = config.CONSUMER_SECRET\n",
    "access_token = config.ACCESS_TOKEN\n",
    "access_token_secret = config.ACCESS_TOKEN_SECRET"
   ]
  },
  {
   "cell_type": "code",
   "execution_count": null,
   "metadata": {},
   "outputs": [],
   "source": [
    "#run this cell for as long as you want to get a sample of current tweets\n",
    "stream_output = \"./data_csv/intermediate/stream_output.txt\"\n",
    "\n",
    "#stream sample example:\n",
    "class TweetPrinter(tweepy.StreamingClient):\n",
    "\n",
    "    def on_tweet(self, user):\n",
    "        with open(stream_output, 'a') as f:\n",
    "            print(str(user.id))\n",
    "            f.write(str(user.id) + \"\\n\")\n",
    "\n",
    "\n",
    "printer = TweetPrinter(config.BEARER_TOKEN, wait_on_rate_limit=True)\n",
    "printer.sample(user_fields=\"created_at,description,entities,id,name,profile_image_url,public_metrics,username,verified\", expansions=\"author_id\")\n"
   ]
  },
  {
   "cell_type": "code",
   "execution_count": null,
   "metadata": {},
   "outputs": [],
   "source": [
    "#get the features of the users from the sampled current tweets\n",
    "\n",
    "tweet_input = \"stream_output.txt\"\n",
    "stream_users_output = \"./data_csv/intermediate/stream_users.csv\"\n",
    "\n",
    "assert not os.path.exists(stream_users_output), f\"{stream_users_output} already exists\"\n",
    "\n",
    "sampled_time = \"2022-09-28 4:48:00+00:00\"\n",
    "\n",
    "tweet_ids = []\n",
    "\n",
    "with open(tweet_input, \"r\") as f:\n",
    "    tweet_ids = f.read().splitlines() \n",
    "\n",
    "# authorization of consumer key and consumer secret\n",
    "auth = tweepy.OAuthHandler(consumer_key, consumer_secret)\n",
    "# set access to user's access key and access secret \n",
    "auth.set_access_token(access_token, access_token_secret)\n",
    "# calling the api \n",
    "api = tweepy.API(auth)\n",
    "\n",
    "with open(stream_users_output, \"w\") as csv_file:\n",
    "    writer = csv.writer(csv_file, delimiter=',')\n",
    "\n",
    "    writer.writerow([\"id\", \"created_at\", \"sampled_at\", \"name\", \"screen_name\", \"description\", \"statuses_count\", \"followers_count\", \"friends_count\", \"favourites_count\", \"listed_count\", \"default_profile\", \"profile_banner_url\", \"verified\"])\n",
    "    for _id in tweet_ids:\n",
    "        try: \n",
    "            status = api.get_status(_id)\n",
    "            user = status.user\n",
    "            if not hasattr(user, \"profile_banner_url\"):\n",
    "                user.profile_banner_url = \"N/A\"\n",
    "\n",
    "            writer.writerow([user.id, user.created_at, sampled_time, user.name, user.screen_name, user.description, user.statuses_count, user.followers_count, user.friends_count, user.favourites_count, user.listed_count, user.default_profile, user.profile_banner_url, user.verified])\n",
    "        except (Forbidden, NotFound) as e:\n",
    "            print(e)"
   ]
  },
  {
   "cell_type": "code",
   "execution_count": null,
   "metadata": {},
   "outputs": [],
   "source": [
    "#get the features of the users in the varol-2017 dataset from their ids\n",
    "\n",
    "varol_input = \"./original_datasets/varol/varol-2017.tsv\"\n",
    "varol_output = \"./data_csv/intermediate/varol-17.csv\"\n",
    "\n",
    "assert not os.path.exists(varol_output), f\"{varol_output} already exists\"\n",
    "\n",
    "sampled_time = \"2022-09-28 4:48:00+00:00\"\n",
    "\n",
    "df = pd.read_csv(varol_input, delim_whitespace=True, names=range(2))\n",
    "ids = df[0]\n",
    "\n",
    "# authorization of consumer key and consumer secret\n",
    "auth = tweepy.OAuthHandler(consumer_key, consumer_secret)\n",
    "# set access to user's access key and access secret \n",
    "auth.set_access_token(access_token, access_token_secret)\n",
    "# calling the api \n",
    "api = tweepy.API(auth, wait_on_rate_limit=True)\n",
    "\n",
    "with open(varol_output, \"w\") as csv_file:\n",
    "    writer = csv.writer(csv_file, delimiter=',')\n",
    "\n",
    "    writer.writerow([\"id\", \"created_at\", \"sampled_at\", \"name\", \"screen_name\", \"description\", \"statuses_count\", \"followers_count\", \"friends_count\", \"favourites_count\", \"listed_count\", \"default_profile\", \"profile_banner_url\", \"verified\", \"is_bot\"])\n",
    "\n",
    "    for i, _id in enumerate(ids):\n",
    "        try: \n",
    "            user = api.get_user(user_id=_id)\n",
    "            if not hasattr(user, \"profile_banner_url\"):\n",
    "                user.profile_banner_url = \"N/A\"\n",
    "\n",
    "            writer.writerow([user.id, user.created_at, sampled_time, user.name, user.screen_name, user.description, user.statuses_count, user.followers_count, user.friends_count, user.favourites_count, user.listed_count, user.default_profile, user.profile_banner_url, user.verified, df[1][i]])\n",
    "            print(f\"Got {_id}\")\n",
    "        except (Forbidden, NotFound) as e:\n",
    "            print(f\"Error for {_id}: {e}\")\n"
   ]
  }
 ],
 "metadata": {
  "kernelspec": {
   "display_name": "Python 3.8.10 64-bit",
   "language": "python",
   "name": "python3"
  },
  "language_info": {
   "codemirror_mode": {
    "name": "ipython",
    "version": 3
   },
   "file_extension": ".py",
   "mimetype": "text/x-python",
   "name": "python",
   "nbconvert_exporter": "python",
   "pygments_lexer": "ipython3",
   "version": "3.8.10"
  },
  "orig_nbformat": 4,
  "vscode": {
   "interpreter": {
    "hash": "916dbcbb3f70747c44a77c7bcd40155683ae19c65e1c03b4aa3499c5328201f1"
   }
  }
 },
 "nbformat": 4,
 "nbformat_minor": 2
}
