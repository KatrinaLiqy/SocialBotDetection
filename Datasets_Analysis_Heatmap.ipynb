{
  "nbformat": 4,
  "nbformat_minor": 0,
  "metadata": {
    "colab": {
      "provenance": [],
      "collapsed_sections": [],
      "authorship_tag": "ABX9TyM/UeQOqx6RO93KfDMEPbaD",
      "include_colab_link": true
    },
    "kernelspec": {
      "name": "python3",
      "display_name": "Python 3"
    },
    "language_info": {
      "name": "python"
    }
  },
  "cells": [
    {
      "cell_type": "markdown",
      "metadata": {
        "id": "view-in-github",
        "colab_type": "text"
      },
      "source": [
        "<a href=\"https://colab.research.google.com/github/KatrinaLiqy/SocialBotDetection/blob/main/Datasets_Analysis_Heatmap.ipynb\" target=\"_parent\"><img src=\"https://colab.research.google.com/assets/colab-badge.svg\" alt=\"Open In Colab\"/></a>"
      ]
    },
    {
      "cell_type": "code",
      "execution_count": null,
      "metadata": {
        "id": "xOBAourXmLp0"
      },
      "outputs": [],
      "source": [
        "%load_ext autoreload\n",
        "%autoreload 2"
      ]
    },
    {
      "cell_type": "code",
      "source": [
        "from google.colab import drive\n",
        "drive.mount('/content/drive', force_remount=True)\n",
        "import os\n",
        "\n",
        "GOOGLE_DRIVE_PATH_AFTER_MYDRIVE = 'botsdata/data_csv/final' #change this to whatever folder your code is in\n",
        "GOOGLE_DRIVE_PATH = os.path.join('drive', 'My Drive', GOOGLE_DRIVE_PATH_AFTER_MYDRIVE)\n",
        "\n",
        "print(os.listdir(GOOGLE_DRIVE_PATH))"
      ],
      "metadata": {
        "colab": {
          "base_uri": "https://localhost:8080/"
        },
        "id": "J4LDAfOjmfII",
        "outputId": "a843e363-18c1-4687-e43a-b10b9c8f4ba1"
      },
      "execution_count": null,
      "outputs": [
        {
          "output_type": "stream",
          "name": "stdout",
          "text": [
            "Mounted at /content/drive\n",
            "['stream_account_scores.csv', 'botwiki-2019.csv', 'pronbots-2019.csv', 'celebrity-2019.csv', 'botometer-feedback-2019.csv', 'vendor-purchased-2019.csv', 'political-bots-2019.csv', 'gilani-2017.csv', 'verified-2019.csv', 'cresci-17.csv', 'varol-17.csv', 'cresci-rtbust-2019.csv', 'midterm-2018.csv', 'stream_users.csv', 'botwiki-verified.csv']\n"
          ]
        }
      ]
    },
    {
      "cell_type": "code",
      "source": [
        "import seaborn as sns\n",
        "import matplotlib.pylab as plt\n",
        "import sys\n",
        "sys.path.append(GOOGLE_DRIVE_PATH)\n",
        "import pandas as pd\n",
        "import numpy as np"
      ],
      "metadata": {
        "id": "ngzJ-1izmfDa"
      },
      "execution_count": null,
      "outputs": []
    },
    {
      "cell_type": "code",
      "source": [
        "# 0. varol-icwsm - B733 H1495\n",
        "# 1. cresci-17 - B7049 H2764\n",
        "# 2. pronbots - Only Bots 17882\n",
        "# 3. celebrity - Only Humans 5918\n",
        "# 4. vendor-purchased - Only Bots 1087\n",
        "# 5. botometer-feedback - B139 H380\n",
        "# 6. political-bots - Only Bots 62"
      ],
      "metadata": {
        "id": "GpU3indPxIeH"
      },
      "execution_count": null,
      "outputs": []
    },
    {
      "cell_type": "code",
      "source": [
        "# Seven training datasets\n",
        "varol = pd.read_csv(GOOGLE_DRIVE_PATH + '/varol-17.csv')\n",
        "cresci_17 = pd.read_csv(GOOGLE_DRIVE_PATH + '/cresci-17.csv')\n",
        "pronbots = pd.read_csv(GOOGLE_DRIVE_PATH + '/pronbots-2019.csv')\n",
        "celebrity = pd.read_csv(GOOGLE_DRIVE_PATH + '/celebrity-2019.csv')\n",
        "vendor = pd.read_csv(GOOGLE_DRIVE_PATH + '/vendor-purchased-2019.csv')\n",
        "botometer = pd.read_csv(GOOGLE_DRIVE_PATH + '/botometer-feedback-2019.csv')\n",
        "political = pd.read_csv(GOOGLE_DRIVE_PATH + '/political-bots-2019.csv')\n",
        "\n",
        "# Testing datasets\n",
        "botwiki = pd.read_csv(GOOGLE_DRIVE_PATH + '/botwiki-verified.csv')\n",
        "midterm = pd.read_csv(GOOGLE_DRIVE_PATH + '/midterm-2018.csv')\n",
        "gilani = pd.read_csv(GOOGLE_DRIVE_PATH + '/gilani-2017.csv')\n",
        "c_rtbust = pd.read_csv(GOOGLE_DRIVE_PATH + '/cresci-rtbust-2019.csv')"
      ],
      "metadata": {
        "id": "dDxhwNN8oyfz"
      },
      "execution_count": null,
      "outputs": []
    },
    {
      "cell_type": "code",
      "source": [
        "# 1. pronbots and celebrity are combined to form the pron-celebrity dataset\n",
        "# 2. botometer- feedback and political-bots are merged into political-feedback\n",
        "# 3. TO DO: verified is split into two parts, merged with botwiki and vendor-purchased \n",
        "# to obtain the roughly balanced botwiki-verified and vendor-verified"
      ],
      "metadata": {
        "id": "GlmP3YNCw1tG"
      },
      "execution_count": null,
      "outputs": []
    },
    {
      "cell_type": "code",
      "source": [
        "pron_celebrity = pd.concat([pronbots,celebrity],axis=0,ignore_index=True)\n",
        "political_feedback = pd.concat([botometer,political],axis=0,ignore_index=True)"
      ],
      "metadata": {
        "id": "RBQqj3Nrx8wM"
      },
      "execution_count": null,
      "outputs": []
    },
    {
      "cell_type": "code",
      "source": [
        "dataset_list = [botwiki, cresci_17, midterm, pron_celebrity, varol, gilani, political_feedback, c_rtbust]"
      ],
      "metadata": {
        "id": "BWRB1we4trIh"
      },
      "execution_count": null,
      "outputs": []
    },
    {
      "cell_type": "code",
      "source": [
        "from sklearn.ensemble import RandomForestClassifier\n",
        "from sklearn import metrics\n",
        "from sklearn.metrics import roc_auc_score\n",
        "import csv"
      ],
      "metadata": {
        "id": "RI_Jp71xpoHs"
      },
      "execution_count": null,
      "outputs": []
    },
    {
      "cell_type": "code",
      "source": [
        "heatmap_array = [[0 for i in range(len(dataset_list))] for j in range(len(dataset_list))]"
      ],
      "metadata": {
        "id": "2S6y9N2juGk0"
      },
      "execution_count": null,
      "outputs": []
    },
    {
      "cell_type": "code",
      "source": [
        "for i, train in enumerate(dataset_list):\n",
        "\n",
        "  X_train = train.iloc[:, 0:20]\n",
        "  y_train = train.iloc[:, 20]\n",
        "\n",
        "  clf = RandomForestClassifier(n_estimators=100)\n",
        "  print(\"Training \",i)\n",
        "  clf.fit(X_train, y_train)\n",
        "\n",
        "  for j, test in enumerate(dataset_list):\n",
        "\n",
        "    X_test = test.iloc[:, 0:20]\n",
        "    y_test = test.iloc[:, 20]\n",
        "\n",
        "    print(\"Testing \",j)\n",
        "\n",
        "    roc = roc_auc_score(y_test, clf.predict_proba(X_test)[:, -1])\n",
        "    heatmap_array[i][j] = roc"
      ],
      "metadata": {
        "id": "-C--OjHmpoCO",
        "colab": {
          "base_uri": "https://localhost:8080/"
        },
        "outputId": "2c2a02b1-a1b0-4090-85df-62d57e20711b"
      },
      "execution_count": null,
      "outputs": [
        {
          "output_type": "stream",
          "name": "stdout",
          "text": [
            "Training  0\n",
            "Testing  0\n",
            "Testing  1\n",
            "Testing  2\n",
            "Testing  3\n",
            "Testing  4\n",
            "Testing  5\n",
            "Testing  6\n",
            "Testing  7\n",
            "Training  1\n",
            "Testing  0\n",
            "Testing  1\n",
            "Testing  2\n",
            "Testing  3\n",
            "Testing  4\n",
            "Testing  5\n",
            "Testing  6\n",
            "Testing  7\n",
            "Training  2\n",
            "Testing  0\n",
            "Testing  1\n",
            "Testing  2\n",
            "Testing  3\n",
            "Testing  4\n",
            "Testing  5\n",
            "Testing  6\n",
            "Testing  7\n",
            "Training  3\n",
            "Testing  0\n",
            "Testing  1\n",
            "Testing  2\n",
            "Testing  3\n",
            "Testing  4\n",
            "Testing  5\n",
            "Testing  6\n",
            "Testing  7\n",
            "Training  4\n",
            "Testing  0\n",
            "Testing  1\n",
            "Testing  2\n",
            "Testing  3\n",
            "Testing  4\n",
            "Testing  5\n",
            "Testing  6\n",
            "Testing  7\n",
            "Training  5\n",
            "Testing  0\n",
            "Testing  1\n",
            "Testing  2\n",
            "Testing  3\n",
            "Testing  4\n",
            "Testing  5\n",
            "Testing  6\n",
            "Testing  7\n",
            "Training  6\n",
            "Testing  0\n",
            "Testing  1\n",
            "Testing  2\n",
            "Testing  3\n",
            "Testing  4\n",
            "Testing  5\n",
            "Testing  6\n",
            "Testing  7\n",
            "Training  7\n",
            "Testing  0\n",
            "Testing  1\n",
            "Testing  2\n",
            "Testing  3\n",
            "Testing  4\n",
            "Testing  5\n",
            "Testing  6\n",
            "Testing  7\n"
          ]
        }
      ]
    },
    {
      "cell_type": "code",
      "source": [
        "heatmap_array"
      ],
      "metadata": {
        "colab": {
          "base_uri": "https://localhost:8080/"
        },
        "id": "_L0jgdnkzvU1",
        "outputId": "d669001a-06f3-40f4-ca17-b03444ae9f06"
      },
      "execution_count": null,
      "outputs": [
        {
          "output_type": "execute_result",
          "data": {
            "text/plain": [
              "[[1.0,\n",
              "  0.8767673152171397,\n",
              "  0.8936118833341187,\n",
              "  0.9980822565215648,\n",
              "  0.6455171586147883,\n",
              "  0.5828814183986417,\n",
              "  0.4937828947368421,\n",
              "  0.6787243792701216],\n",
              " [0.9643055938096192,\n",
              "  1.0,\n",
              "  0.9768432707695083,\n",
              "  0.10602001257237421,\n",
              "  0.7856626298570855,\n",
              "  0.6615165914206363,\n",
              "  0.6841184210526317,\n",
              "  0.7614439260123314],\n",
              " [0.984502417576713,\n",
              "  0.9090481629389247,\n",
              "  1.0,\n",
              "  0.931437182598295,\n",
              "  0.7003104569195369,\n",
              "  0.653711844997565,\n",
              "  0.6087828947368421,\n",
              "  0.6944092651224796],\n",
              " [0.960709872047968,\n",
              "  0.4876460941131565,\n",
              "  0.6643438952726863,\n",
              "  1.0,\n",
              "  0.4380802805069579,\n",
              "  0.45823220091348243,\n",
              "  0.4164868421052632,\n",
              "  0.6058323612731211],\n",
              " [0.8564400696215948,\n",
              "  0.9674549464236896,\n",
              "  0.9555665843366707,\n",
              "  0.38304958713422255,\n",
              "  1.0,\n",
              "  0.7129736880207442,\n",
              "  0.6896578947368421,\n",
              "  0.5817697050491585],\n",
              " [0.9430333702014384,\n",
              "  0.7659760183528811,\n",
              "  0.7618554475042454,\n",
              "  0.7949272301364746,\n",
              "  0.7802831158395642,\n",
              "  1.0,\n",
              "  0.6764407894736842,\n",
              "  0.483361106482253],\n",
              " [0.9742945910596527,\n",
              "  0.90168493428751,\n",
              "  0.9662439393495091,\n",
              "  0.9542324964690043,\n",
              "  0.7416127062973186,\n",
              "  0.7390089242230792,\n",
              "  1.0,\n",
              "  0.5037993667722047],\n",
              " [0.9728543556036875,\n",
              "  0.7942493443357,\n",
              "  0.8621845207923049,\n",
              "  0.9287999256437539,\n",
              "  0.5907029892566253,\n",
              "  0.568592460479381,\n",
              "  0.5403684210526315,\n",
              "  1.0]]"
            ]
          },
          "metadata": {},
          "execution_count": 16
        }
      ]
    },
    {
      "cell_type": "code",
      "source": [
        "names = [\"botwiki\", \"cresci_17\", \"midterm\", \"pron_celebrity\", \"varol\", \"gilani\", \"political_feedback\", \"c_rtbust\"]\n",
        "sns.heatmap(heatmap_array, annot=True, xticklabels=names, yticklabels=names, cmap=\"crest\")"
      ],
      "metadata": {
        "colab": {
          "base_uri": "https://localhost:8080/",
          "height": 367
        },
        "id": "M-T4ZU-cme9q",
        "outputId": "c1b315d9-f28b-46e0-8538-168856cd9d9b"
      },
      "execution_count": null,
      "outputs": [
        {
          "output_type": "execute_result",
          "data": {
            "text/plain": [
              "<matplotlib.axes._subplots.AxesSubplot at 0x7f25ff44c290>"
            ]
          },
          "metadata": {},
          "execution_count": 17
        },
        {
          "output_type": "display_data",
          "data": {
            "text/plain": [
              "<Figure size 432x288 with 2 Axes>"
            ],
            "image/png": "[encoded data removed]"
          },
          "metadata": {
            "needs_background": "light"
          }
        }
      ]
    },
    {
      "cell_type": "code",
      "source": [],
      "metadata": {
        "id": "D_DzY7oume6b"
      },
      "execution_count": null,
      "outputs": []
    }
  ]
}