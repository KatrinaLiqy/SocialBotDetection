{
  "nbformat": 4,
  "nbformat_minor": 0,
  "metadata": {
    "colab": {
      "provenance": [],
      "collapsed_sections": [],
      "include_colab_link": true
    },
    "kernelspec": {
      "name": "python3",
      "display_name": "Python 3"
    },
    "language_info": {
      "name": "python"
    }
  },
  "cells": [
    {
      "cell_type": "markdown",
      "metadata": {
        "id": "view-in-github",
        "colab_type": "text"
      },
      "source": [
        "<a href=\"https://colab.research.google.com/github/KatrinaLiqy/SocialBotDetection/blob/main/Hyperparameter_Analysis.ipynb\" target=\"_parent\"><img src=\"https://colab.research.google.com/assets/colab-badge.svg\" alt=\"Open In Colab\"/></a>"
      ]
    },
    {
      "cell_type": "code",
      "execution_count": 16,
      "metadata": {
        "id": "qx5nxkLNEFGf"
      },
      "outputs": [],
      "source": [
        "%load_ext autoreload\n",
        "%autoreload 2"
      ]
    },
    {
      "cell_type": "code",
      "source": [
        "import matplotlib\n",
        "!pip install matplotlib --upgrade\n",
        "matplotlib.__version__"
      ],
      "metadata": {
        "colab": {
          "base_uri": "https://localhost:8080/",
          "height": 244
        },
        "id": "kXHFdoNPxyHw",
        "outputId": "e88df4d1-436b-48dd-d979-834ee65ecd68"
      },
      "execution_count": 1,
      "outputs": [
        {
          "output_type": "stream",
          "name": "stdout",
          "text": [
            "Looking in indexes: https://pypi.org/simple, https://us-python.pkg.dev/colab-wheels/public/simple/\n",
            "Requirement already satisfied: matplotlib in /usr/local/lib/python3.7/dist-packages (3.5.3)\n",
            "Requirement already satisfied: pyparsing>=2.2.1 in /usr/local/lib/python3.7/dist-packages (from matplotlib) (3.0.9)\n",
            "Requirement already satisfied: cycler>=0.10 in /usr/local/lib/python3.7/dist-packages (from matplotlib) (0.11.0)\n",
            "Requirement already satisfied: packaging>=20.0 in /usr/local/lib/python3.7/dist-packages (from matplotlib) (21.3)\n",
            "Requirement already satisfied: numpy>=1.17 in /usr/local/lib/python3.7/dist-packages (from matplotlib) (1.21.6)\n",
            "Requirement already satisfied: pillow>=6.2.0 in /usr/local/lib/python3.7/dist-packages (from matplotlib) (7.1.2)\n",
            "Requirement already satisfied: fonttools>=4.22.0 in /usr/local/lib/python3.7/dist-packages (from matplotlib) (4.38.0)\n",
            "Requirement already satisfied: kiwisolver>=1.0.1 in /usr/local/lib/python3.7/dist-packages (from matplotlib) (1.4.4)\n",
            "Requirement already satisfied: python-dateutil>=2.7 in /usr/local/lib/python3.7/dist-packages (from matplotlib) (2.8.2)\n",
            "Requirement already satisfied: typing-extensions in /usr/local/lib/python3.7/dist-packages (from kiwisolver>=1.0.1->matplotlib) (4.1.1)\n",
            "Requirement already satisfied: six>=1.5 in /usr/local/lib/python3.7/dist-packages (from python-dateutil>=2.7->matplotlib) (1.15.0)\n"
          ]
        },
        {
          "output_type": "execute_result",
          "data": {
            "text/plain": [
              "'3.5.3'"
            ],
            "application/vnd.google.colaboratory.intrinsic+json": {
              "type": "string"
            }
          },
          "metadata": {},
          "execution_count": 1
        }
      ]
    },
    {
      "cell_type": "code",
      "source": [
        "from google.colab import drive\n",
        "drive.mount('/content/drive', force_remount=True)\n",
        "import os\n",
        "import pandas as pd\n",
        "\n",
        "GOOGLE_DRIVE_PATH_AFTER_MYDRIVE = 'models' #change this to whatever folder your code is in\n",
        "GOOGLE_DRIVE_PATH = os.path.join('drive', 'My Drive', GOOGLE_DRIVE_PATH_AFTER_MYDRIVE)\n",
        "\n",
        "#this directory contains the csv with all the models' metrics, and all tables generated in this notebook will go here\n",
        "results_path = os.path.join(GOOGLE_DRIVE_PATH)"
      ],
      "metadata": {
        "colab": {
          "base_uri": "https://localhost:8080/"
        },
        "id": "zyM1RWpkF5jB",
        "outputId": "42a3ce0e-25ec-4711-a7bd-c4d059432175"
      },
      "execution_count": 17,
      "outputs": [
        {
          "output_type": "stream",
          "name": "stdout",
          "text": [
            "Mounted at /content/drive\n"
          ]
        }
      ]
    },
    {
      "cell_type": "code",
      "source": [
        "#this directory contains the csv with all the models' metrics, and all tables generated in this notebook will go here\n",
        "#results_path = \"./results/5_final_results/\""
      ],
      "metadata": {
        "id": "sqaJus1YhpmK"
      },
      "execution_count": null,
      "outputs": []
    },
    {
      "cell_type": "code",
      "source": [
        "def csv_to_dataframe_to_ranked_results(results_file):\n",
        "  #\n",
        "  results = pd.read_csv(os.path.join(results_path, results_file))\n",
        "  results[\"name\"] = results.apply(lambda row: str(int(row[\"name\"])).zfill(7), axis=1)\n",
        "  ranks = results.drop(\"name\", axis=1).rank(ascending=False).add_suffix(\"_rank\")\n",
        "  ranked_results = pd.concat([results, ranks], axis=1)\n",
        "  metrics_to_eval = [\"botwiki-verified_rank\", \"midterm-18_rank\", \"gilani-17_rank\", \"cresci-rtbust_rank\", \"5-fold_cross-validation_rank\", \"spearman_r_rank\"]\n",
        "  rank_product = ranked_results[metrics_to_eval].product(axis=1)\n",
        "  #ranked_results = ranked_results.drop(labels=ranked_results.columns[7:],axis=1)\n",
        "  ranked_results[\"rank\"] = rank_product.rank(ascending=True)\n",
        "  #ranked_results = ranked_results.round(decimals=2)\n",
        "  return ranked_results\n",
        "\n",
        "\n"
      ],
      "metadata": {
        "id": "O8lTG1-x22XD"
      },
      "execution_count": 26,
      "outputs": []
    },
    {
      "cell_type": "code",
      "source": [
        "def ranked_comparison(ranked_results, ranked_results2):\n",
        "  metrics_to_subtract = [\"rank\"]\n",
        "  sub_abs = ranked_results[metrics_to_subtract].subtract(ranked_results2[metrics_to_subtract], axis=1).abs()\n",
        "  average_change = sub_abs.sum().div(119).round()\n",
        "\n",
        "  print(average_change)"
      ],
      "metadata": {
        "id": "fRY8SCOD7ssk"
      },
      "execution_count": 34,
      "outputs": []
    },
    {
      "cell_type": "code",
      "source": [
        "def performance_eval(ranked_results):\n",
        "  metrics_to_average = [\"botwiki-verified\", \"midterm-18\", \"gilani-17\", \"cresci-rtbust\", \"5-fold_cross-validation\", \"spearman_r\"]\n",
        "  average = ranked_results[metrics_to_average].sum().div(119)\n",
        "  sum_div_average = average.sum()/len(metrics_to_average)\n",
        "  sum_div_average = sum_div_average.round(decimals=6)\n",
        "\n",
        "  print(sum_div_average)"
      ],
      "metadata": {
        "id": "zlHrypOP8PUG"
      },
      "execution_count": 44,
      "outputs": []
    },
    {
      "cell_type": "code",
      "source": [
        "def performance_eval_top_n(ranked_results, n):\n",
        "  metrics_to_average = [\"botwiki-verified\", \"midterm-18\", \"gilani-17\", \"cresci-rtbust\", \"5-fold_cross-validation\", \"spearman_r\"]\n",
        "  top_results = ranked_results.sort_values(\"rank\").head(n)\n",
        "  average = top_results[metrics_to_average].sum().div(n)\n",
        "  sum_div_average = average.sum()/len(metrics_to_average)\n",
        "  sum_div_average = sum_div_average.round(decimals=6)\n",
        "\n",
        "  print(sum_div_average)"
      ],
      "metadata": {
        "id": "jFwmo9fe-IiE"
      },
      "execution_count": 48,
      "outputs": []
    },
    {
      "cell_type": "code",
      "source": [
        "#Most of the work is actually done, but in this cell, there will be a function which can take two sets of results with different hyperparameters.\n",
        "def comparison(hyper, hyper2, n):\n",
        "  ranked_res = csv_to_dataframe_to_ranked_results(hyper)\n",
        "  ranked_res2 = csv_to_dataframe_to_ranked_results(hyper2)\n",
        "  ranked_comparison(ranked_res, ranked_res2)\n",
        "  print(\"performance of \" + hyper)\n",
        "  performance_eval(ranked_res)\n",
        "  print(\"performance of \" + hyper2)\n",
        "  performance_eval(ranked_res2)\n",
        "  print(hyper + \" vs. \" + hyper2)\n",
        "  performance_eval_top_n(ranked_res,n)\n",
        "  performance_eval_top_n(ranked_res2,n)  "
      ],
      "metadata": {
        "id": "RfxUHChEyPLw"
      },
      "execution_count": 46,
      "outputs": []
    },
    {
      "cell_type": "code",
      "source": [
        "n = 30\n",
        "comparison(\"results_m_d_128.csv\",\"results_m_feat_none.csv\",n)\n",
        "comparison(\"results_base.csv\", \"results_c_w_bal_sub.csv\", n)\n",
        "comparison(\"results_base.csv\", \"results_c_w_bal.csv\", n)\n",
        "comparison(\"results_c_w_bal.csv\", \"results_c_w_bal_sub.csv\", n)\n",
        "comparison(\"results_base.csv\", \"results_base.csv\", n)"
      ],
      "metadata": {
        "colab": {
          "base_uri": "https://localhost:8080/"
        },
        "id": "uQncNmDvL33L",
        "outputId": "8030785a-11fd-44c5-becf-2750a153ef8a"
      },
      "execution_count": 59,
      "outputs": [
        {
          "output_type": "stream",
          "name": "stdout",
          "text": [
            "rank    7.0\n",
            "dtype: float64\n",
            "performance of results_m_d_128.csv\n",
            "0.782813\n",
            "performance of results_m_feat_none.csv\n",
            "0.782867\n",
            "results_m_d_128.csv vs. results_m_feat_none.csv\n",
            "0.805458\n",
            "0.805694\n",
            "rank    15.0\n",
            "dtype: float64\n",
            "performance of results_base.csv\n",
            "0.782098\n",
            "performance of results_c_w_bal_sub.csv\n",
            "0.782148\n",
            "results_base.csv vs. results_c_w_bal_sub.csv\n",
            "0.806363\n",
            "0.815128\n",
            "rank    13.0\n",
            "dtype: float64\n",
            "performance of results_base.csv\n",
            "0.782098\n",
            "performance of results_c_w_bal.csv\n",
            "0.781912\n",
            "results_base.csv vs. results_c_w_bal.csv\n",
            "0.806363\n",
            "0.814361\n",
            "rank    8.0\n",
            "dtype: float64\n",
            "performance of results_c_w_bal.csv\n",
            "0.781912\n",
            "performance of results_c_w_bal_sub.csv\n",
            "0.782148\n",
            "results_c_w_bal.csv vs. results_c_w_bal_sub.csv\n",
            "0.814361\n",
            "0.815128\n",
            "rank    0.0\n",
            "dtype: float64\n",
            "performance of results_base.csv\n",
            "0.782098\n",
            "performance of results_base.csv\n",
            "0.782098\n",
            "results_base.csv vs. results_base.csv\n",
            "0.806363\n",
            "0.806363\n"
          ]
        }
      ]
    },
    {
      "cell_type": "code",
      "source": [
        "import matplotlib.pyplot as plt\n",
        "import numpy as np\n",
        "from textwrap import wrap\n",
        "\n",
        "labels = ['base',\n",
        "          'CW=BSub',\n",
        "          'MD=128\\n CW=B\\n', 'G4', 'G5']\n",
        "labels = [ '\\n'.join(wrap(l, 6)) for l in labels ]\n",
        "overall_score = [0.7821, 0.7821, 0, 0, 0]\n",
        "top_n_score = [0.8063, 0.8151, 0, 0, 0]\n",
        "\n",
        "x = np.arange(len(labels))  # the label locations\n",
        "width = 0.35  # the width of the bars\n",
        "\n",
        "fig, ax = plt.subplots()\n",
        "rects1 = ax.bar(x - width/1.5, overall_score, width/1.1, label='Performance of All Models')\n",
        "rects2 = ax.bar(x + width/1.5, top_n_score, width/1.1, label='Performance of Top n=30 Models')\n",
        "\n",
        "# Add some text for labels, title and custom x-axis tick labels, etc.\n",
        "ax.set_ylabel('Scores')\n",
        "ax.set_title('Performance of a set of models with specific hyperparameters')\n",
        "ax.set_xticks(x, labels)\n",
        "ax.legend()\n",
        "\n",
        "ax.bar_label(rects1, padding=-1)\n",
        "ax.bar_label(rects2, padding=-1)\n",
        "\n",
        "fig.tight_layout()\n",
        "\n",
        "plt.savefig(\"test.svg\", format='svg')\n",
        "plt.show()"
      ],
      "metadata": {
        "colab": {
          "base_uri": "https://localhost:8080/",
          "height": 297
        },
        "id": "9uWABX6ts3HV",
        "outputId": "9f39dc45-66fc-48e9-d2c5-0409327669c3"
      },
      "execution_count": 60,
      "outputs": [
        {
          "output_type": "display_data",
          "data": {
            "text/plain": [
              "<Figure size 432x288 with 1 Axes>"
            ],
            "image/png": "[encoded data removed]"
          },
          "metadata": {
            "needs_background": "light"
          }
        }
      ]
    }
  ]
}