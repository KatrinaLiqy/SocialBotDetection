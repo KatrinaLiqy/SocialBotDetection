{
  "cells": [
    {
      "cell_type": "code",
      "execution_count": 24,
      "metadata": {
        "colab": {
          "base_uri": "https://localhost:8080/"
        },
        "id": "zyM1RWpkF5jB",
        "outputId": "b0f514b4-674e-40e7-a52a-f492b44f1e3a"
      },
      "outputs": [],
      "source": [
        "import os\n",
        "import pandas as pd\n",
        "\n",
        "results_path = \"./hyperparameter_analysis/\""
      ]
    },
    {
      "cell_type": "code",
      "execution_count": 25,
      "metadata": {
        "colab": {
          "base_uri": "https://localhost:8080/",
          "height": 244
        },
        "id": "kXHFdoNPxyHw",
        "outputId": "78308054-5260-4a23-b0ed-cd8a099fccb4"
      },
      "outputs": [
        {
          "name": "stdout",
          "output_type": "stream",
          "text": [
            "Requirement already up-to-date: matplotlib in /home/mcse/.local/lib/python3.8/site-packages (3.6.2)\n",
            "Requirement already satisfied, skipping upgrade: numpy>=1.19 in /home/mcse/.local/lib/python3.8/site-packages (from matplotlib) (1.22.4)\n",
            "Requirement already satisfied, skipping upgrade: packaging>=20.0 in /home/mcse/.local/lib/python3.8/site-packages (from matplotlib) (21.3)\n",
            "Requirement already satisfied, skipping upgrade: kiwisolver>=1.0.1 in /home/mcse/.local/lib/python3.8/site-packages (from matplotlib) (1.4.3)\n",
            "Requirement already satisfied, skipping upgrade: python-dateutil>=2.7 in /home/mcse/.local/lib/python3.8/site-packages (from matplotlib) (2.8.2)\n",
            "Requirement already satisfied, skipping upgrade: pillow>=6.2.0 in /home/mcse/.local/lib/python3.8/site-packages (from matplotlib) (9.1.1)\n",
            "Requirement already satisfied, skipping upgrade: fonttools>=4.22.0 in /home/mcse/.local/lib/python3.8/site-packages (from matplotlib) (4.33.3)\n",
            "Requirement already satisfied, skipping upgrade: cycler>=0.10 in /home/mcse/.local/lib/python3.8/site-packages (from matplotlib) (0.11.0)\n",
            "Requirement already satisfied, skipping upgrade: contourpy>=1.0.1 in /home/mcse/.local/lib/python3.8/site-packages (from matplotlib) (1.0.6)\n",
            "Requirement already satisfied, skipping upgrade: pyparsing>=2.2.1 in /home/mcse/.local/lib/python3.8/site-packages (from matplotlib) (3.0.9)\n",
            "Requirement already satisfied, skipping upgrade: six>=1.5 in /usr/lib/python3/dist-packages (from python-dateutil>=2.7->matplotlib) (1.14.0)\n"
          ]
        },
        {
          "data": {
            "text/plain": [
              "'3.6.2'"
            ]
          },
          "execution_count": 25,
          "metadata": {},
          "output_type": "execute_result"
        }
      ],
      "source": [
        "import matplotlib\n",
        "!pip install matplotlib --upgrade\n",
        "matplotlib.__version__"
      ]
    },
    {
      "cell_type": "code",
      "execution_count": 26,
      "metadata": {
        "id": "O8lTG1-x22XD"
      },
      "outputs": [],
      "source": [
        "def csv_to_dataframe_to_ranked_results(results_file):\n",
        "  #\n",
        "  results = pd.read_csv(os.path.join(results_path, results_file))\n",
        "  results[\"name\"] = results.apply(lambda row: str(int(row[\"name\"])).zfill(7), axis=1)\n",
        "  ranks = results.drop(\"name\", axis=1).rank(ascending=False).add_suffix(\"_rank\")\n",
        "  ranked_results = pd.concat([results, ranks], axis=1)\n",
        "  metrics_to_eval = [\"botwiki-verified_rank\", \"midterm-18_rank\", \"gilani-17_rank\", \"cresci-rtbust_rank\", \"5-fold_cross-validation_rank\", \"spearman_r_rank\"]\n",
        "  rank_product = ranked_results[metrics_to_eval].product(axis=1)\n",
        "  ranked_results[\"rank\"] = rank_product.rank(ascending=True)\n",
        "  return ranked_results\n",
        "\n",
        "\n"
      ]
    },
    {
      "cell_type": "code",
      "execution_count": 27,
      "metadata": {
        "id": "fRY8SCOD7ssk"
      },
      "outputs": [],
      "source": [
        "def ranked_comparison(ranked_results, ranked_results2):\n",
        "  metrics_to_subtract = [\"rank\"]\n",
        "  sub_abs = ranked_results[metrics_to_subtract].subtract(ranked_results2[metrics_to_subtract], axis=1).abs()\n",
        "  average_change = sub_abs.sum().div(119).round()\n",
        "\n",
        "  print(average_change)"
      ]
    },
    {
      "cell_type": "code",
      "execution_count": 28,
      "metadata": {
        "id": "zlHrypOP8PUG"
      },
      "outputs": [],
      "source": [
        "def performance_eval(ranked_results):\n",
        "  metrics_to_average = [\"botwiki-verified\", \"midterm-18\", \"gilani-17\", \"cresci-rtbust\", \"5-fold_cross-validation\", \"spearman_r\"]\n",
        "  average = ranked_results[metrics_to_average].sum().div(119)\n",
        "  sum_div_average = average.sum()/len(metrics_to_average)\n",
        "  sum_div_average = sum_div_average.round(decimals=6)\n",
        "\n",
        "  print(sum_div_average)"
      ]
    },
    {
      "cell_type": "code",
      "execution_count": 29,
      "metadata": {
        "id": "jFwmo9fe-IiE"
      },
      "outputs": [],
      "source": [
        "def performance_eval_top_n(ranked_results, n):\n",
        "  metrics_to_average = [\"botwiki-verified\", \"midterm-18\", \"gilani-17\", \"cresci-rtbust\", \"5-fold_cross-validation\", \"spearman_r\"]\n",
        "  top_results = ranked_results.sort_values(\"rank\").head(n)\n",
        "  average = top_results[metrics_to_average].sum().div(n)\n",
        "  sum_div_average = average.sum()/len(metrics_to_average)\n",
        "  sum_div_average = sum_div_average.round(decimals=6)\n",
        "\n",
        "  print(sum_div_average)"
      ]
    },
    {
      "cell_type": "code",
      "execution_count": 30,
      "metadata": {
        "id": "RfxUHChEyPLw"
      },
      "outputs": [],
      "source": [
        "#Most of the work is actually done, but in this cell, there will be a function which can take two sets of results with different hyperparameters.\n",
        "def comparison(hyper, hyper2, n):\n",
        "  ranked_res = csv_to_dataframe_to_ranked_results(hyper)\n",
        "  ranked_res2 = csv_to_dataframe_to_ranked_results(hyper2)\n",
        "  ranked_comparison(ranked_res, ranked_res2)\n",
        "  print(\"performance of \" + hyper)\n",
        "  performance_eval(ranked_res)\n",
        "  print(\"performance of \" + hyper2)\n",
        "  performance_eval(ranked_res2)\n",
        "  print(hyper + \" vs. \" + hyper2)\n",
        "  performance_eval_top_n(ranked_res,n)\n",
        "  performance_eval_top_n(ranked_res2,n)  "
      ]
    },
    {
      "cell_type": "code",
      "execution_count": 31,
      "metadata": {
        "colab": {
          "base_uri": "https://localhost:8080/"
        },
        "id": "uQncNmDvL33L",
        "outputId": "c12076b7-3224-492b-f213-8c7d29cc27bc"
      },
      "outputs": [
        {
          "name": "stdout",
          "output_type": "stream",
          "text": [
            "rank    32.0\n",
            "dtype: float64\n",
            "performance of mean.csv\n",
            "0.784831\n",
            "performance of results_m_d_2.csv\n",
            "0.747735\n",
            "mean.csv vs. results_m_d_2.csv\n",
            "0.81382\n",
            "0.765918\n"
          ]
        }
      ],
      "source": [
        "n = 30\n",
        "comparison(\"mean.csv\", \"results_m_d_2.csv\", n)"
      ]
    },
    {
      "cell_type": "code",
      "execution_count": 34,
      "metadata": {
        "id": "STQD68BNPDY0"
      },
      "outputs": [],
      "source": [
        "def top_n_models(ranked_results, n):\n",
        "  top_results = ranked_results.sort_values(\"rank\").head(n).set_index(\"name\").transpose()\n",
        "  top_results = top_results.round(decimals=2)\n",
        "  top_results = top_results.drop(labels=top_results.columns[7:],axis=1)\n",
        "  #sort_values(\"rank\").\n",
        "\n",
        "  top_results_file = os.path.join(results_path, \"top_mean_results.csv\")\n",
        "  top_results.to_csv(top_results_file)\n",
        "\n",
        "  top_results"
      ]
    },
    {
      "cell_type": "code",
      "execution_count": 22,
      "metadata": {
        "id": "fSvWv3djPe-9"
      },
      "outputs": [],
      "source": [
        "def top_model(hyper, n):\n",
        "  ranked_res = csv_to_dataframe_to_ranked_results(hyper)\n",
        "  top_n_models(ranked_res, n)"
      ]
    },
    {
      "cell_type": "code",
      "execution_count": 35,
      "metadata": {
        "id": "uqX2wceGP1Lf"
      },
      "outputs": [],
      "source": [
        "top_model(\"mean.csv\", 30)"
      ]
    },
    {
      "cell_type": "code",
      "execution_count": 37,
      "metadata": {
        "colab": {
          "base_uri": "https://localhost:8080/",
          "height": 377
        },
        "id": "9uWABX6ts3HV",
        "outputId": "2ae31cbb-1801-4fb0-d1a1-0b636dc72156"
      },
      "outputs": [
        {
          "data": {
            "image/png": "[encoded data removed]",
            "text/plain": [
              "<Figure size 612x396 with 1 Axes>"
            ]
          },
          "metadata": {
            "needs_background": "light"
          },
          "output_type": "display_data"
        }
      ],
      "source": [
        "import matplotlib.pyplot as plt\n",
        "import numpy as np\n",
        "from textwrap import wrap\n",
        "\n",
        "labels = ['base', 'CW=BS','MD=128', 'MD=2', 'CRT=ENT', 'WS=T']\n",
        "labels = [ '\\n'.join(wrap(l, 8)) for l in labels ]\n",
        "overall_score = [0.7848, 0.7821, 0.7828, 0.7477, 0.7787, 0.7787]\n",
        "top_n_score = [0.8138, 0.8151, 0.8055, 0.7659, 0.8055, 0.8067]\n",
        "\n",
        "x = np.arange(len(labels))  # the label locations\n",
        "width = 0.40  # the width of the bars\n",
        "\n",
        "fig, ax = plt.subplots()\n",
        "rects1 = ax.bar(x - width/2.0, overall_score, width/1.1, label='Performance of\\nAll 119 Models')\n",
        "rects2 = ax.bar(x + width/2.0, top_n_score, width/1.1, label='Performance of\\nTop n=30 Models', color='orange')\n",
        "\n",
        "# Add some text for labels, title and custom x-axis tick labels, etc.\n",
        "ax.set_ylabel('Scores', fontsize=14)\n",
        "ax.set_title('Performance of each model set with specific hyperparameters', fontsize=14)\n",
        "ax.set_xticks(x, labels)\n",
        "ax.legend(loc='upper center', bbox_to_anchor=(0.5, -0.05),\n",
        "          fancybox=True, shadow=True, ncol=5)\n",
        "\n",
        "ax.bar_label(rects1, padding=0)\n",
        "ax.bar_label(rects2, padding=0)\n",
        "\n",
        "fig.tight_layout()\n",
        "fig.set_size_inches(8.5, 5.5)\n",
        "\n",
        "plt.savefig(\"test.svg\")\n",
        "plt.show()"
      ]
    }
  ],
  "metadata": {
    "colab": {
      "provenance": [],
      "toc_visible": true
    },
    "kernelspec": {
      "display_name": "Python 3",
      "name": "python3"
    },
    "language_info": {
      "name": "python"
    }
  },
  "nbformat": 4,
  "nbformat_minor": 0
}
