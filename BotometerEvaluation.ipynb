{
 "cells": [
  {
   "cell_type": "markdown",
   "metadata": {},
   "source": [
    "This notebook makes RapidAPI calls to the Botometer endpoint.\n",
    "See the [Botometer Repository](https://github.com/IUNetSci/botometer-python) for documentation on the requirements to make Botometer requests."
   ]
  },
  {
   "cell_type": "code",
   "execution_count": null,
   "metadata": {},
   "outputs": [],
   "source": [
    "import os\n",
    "import pandas as pd\n",
    "import botometer\n",
    "import csv\n",
    "#botometer requires Tweepy version 3.10 or lower\n",
    "import tweepy\n",
    "import config\n",
    "\n",
    "consumer_key = config.CONSUMER_KEY\n",
    "consumer_secret = config.CONSUMER_SECRET\n",
    "access_token = config.ACCESS_TOKEN\n",
    "access_token_secret = config.ACCESS_TOKEN_SECRET\n",
    "rapidapi_key = config.RAPIDAPI_KEY"
   ]
  },
  {
   "cell_type": "code",
   "execution_count": null,
   "metadata": {},
   "outputs": [],
   "source": [
    "input_name = \"./data_csv/intermediate/stream_users.csv\"\n",
    "output_name = \"./data_csv/final/stream_account_scores.csv\"\n",
    "\n",
    "assert not os.path.exists(output_name), f\"{output_name} already exists\"\n",
    "\n",
    "df = pd.read_csv(input_name, names=range(14))\n",
    "\n",
    "names = df[4]\n",
    "\n",
    "twitter_app_auth = {\n",
    "    'consumer_key': consumer_key,\n",
    "    'consumer_secret': consumer_secret,\n",
    "    'access_token': access_token,\n",
    "    'access_token_secret': access_token_secret,\n",
    "  }\n",
    "bom = botometer.Botometer(wait_on_ratelimit=True,\n",
    "                          rapidapi_key=rapidapi_key,\n",
    "                          **twitter_app_auth)\n",
    "\n",
    "\n",
    "with open(output_name, \"w\") as csv_file:\n",
    "    writer = csv.writer(csv_file, delimiter=',')\n",
    "\n",
    "    for name in names:\n",
    "        try:\n",
    "            print(name)\n",
    "            result = bom.check_account(name)\n",
    "            threshold = result[\"cap\"][\"universal\"]\n",
    "            raw_overall = result[\"raw_scores\"][\"universal\"][\"overall\"]\n",
    "\n",
    "            writer.writerow([name, threshold, raw_overall])\n",
    "        \n",
    "        except tweepy.TweepError as e:\n",
    "            print(e)"
   ]
  }
 ],
 "metadata": {
  "kernelspec": {
   "display_name": "Python 3.8.10 64-bit",
   "language": "python",
   "name": "python3"
  },
  "language_info": {
   "codemirror_mode": {
    "name": "ipython",
    "version": 3
   },
   "file_extension": ".py",
   "mimetype": "text/x-python",
   "name": "python",
   "nbconvert_exporter": "python",
   "pygments_lexer": "ipython3",
   "version": "3.8.10"
  },
  "orig_nbformat": 4,
  "vscode": {
   "interpreter": {
    "hash": "916dbcbb3f70747c44a77c7bcd40155683ae19c65e1c03b4aa3499c5328201f1"
   }
  }
 },
 "nbformat": 4,
 "nbformat_minor": 2
}
